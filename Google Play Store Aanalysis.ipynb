{
 "cells": [
  {
   "cell_type": "code",
   "execution_count": 1,
   "metadata": {},
   "outputs": [],
   "source": [
    "import pandas as pd\n",
    "import numpy as np\n",
    "import statistics \n",
    "import matplotlib.pyplot as plt\n",
    "%matplotlib inline\n",
    "from matplotlib.patches import Polygon\n",
    "import seaborn as sns\n",
    "sns.set(style=\"ticks\")\n",
    "from scipy import stats\n",
    "import bokeh as bo"
   ]
  },
  {
   "cell_type": "markdown",
   "metadata": {},
   "source": [
    "# Introduciton\n",
    "\n",
    "1. <a href=\"#gather\">Gathering Data Set</a>\n",
    "\n",
    "2. <a href=\"#assess\">Assessing Data Set</a>\n",
    "\n",
    "3. <a href=\"#clean\">Cleaning Data Set</a>\n",
    "\n",
    "4. <a href=\"#analyze\">Analyze Data Set</a>\n",
    "\n",
    "5. <a href=\"#if\">Inferential Statistics</a>\n",
    "\n",
    "6. <a href=\"#findings\">Main Findings</a>\n",
    "\n"
   ]
  },
  {
   "cell_type": "markdown",
   "metadata": {},
   "source": [
    "# <span id=\"gather\">Gathering Data Set</span>"
   ]
  },
  {
   "cell_type": "markdown",
   "metadata": {},
   "source": [
    "Data Set available on Kaggle: <a href=\"https://www.kaggle.com/lava18/google-play-store-apps\">Find Data Set</a>"
   ]
  },
  {
   "cell_type": "code",
   "execution_count": 2,
   "metadata": {},
   "outputs": [],
   "source": [
    "df = pd.read_csv('googleplaystore.csv')\n",
    "df_review = pd.read_csv('googleplaystore_user_reviews.csv')"
   ]
  },
  {
   "cell_type": "code",
   "execution_count": 3,
   "metadata": {},
   "outputs": [
    {
     "data": {
      "text/html": [
       "<div>\n",
       "<style scoped>\n",
       "    .dataframe tbody tr th:only-of-type {\n",
       "        vertical-align: middle;\n",
       "    }\n",
       "\n",
       "    .dataframe tbody tr th {\n",
       "        vertical-align: top;\n",
       "    }\n",
       "\n",
       "    .dataframe thead th {\n",
       "        text-align: right;\n",
       "    }\n",
       "</style>\n",
       "<table border=\"1\" class=\"dataframe\">\n",
       "  <thead>\n",
       "    <tr style=\"text-align: right;\">\n",
       "      <th></th>\n",
       "      <th>App</th>\n",
       "      <th>Category</th>\n",
       "      <th>Rating</th>\n",
       "      <th>Reviews</th>\n",
       "      <th>Size</th>\n",
       "      <th>Installs</th>\n",
       "      <th>Type</th>\n",
       "      <th>Price</th>\n",
       "      <th>Content Rating</th>\n",
       "      <th>Genres</th>\n",
       "      <th>Last Updated</th>\n",
       "      <th>Current Ver</th>\n",
       "      <th>Android Ver</th>\n",
       "    </tr>\n",
       "  </thead>\n",
       "  <tbody>\n",
       "    <tr>\n",
       "      <th>0</th>\n",
       "      <td>Photo Editor &amp; Candy Camera &amp; Grid &amp; ScrapBook</td>\n",
       "      <td>ART_AND_DESIGN</td>\n",
       "      <td>4.1</td>\n",
       "      <td>159</td>\n",
       "      <td>19M</td>\n",
       "      <td>10,000+</td>\n",
       "      <td>Free</td>\n",
       "      <td>0</td>\n",
       "      <td>Everyone</td>\n",
       "      <td>Art &amp; Design</td>\n",
       "      <td>January 7, 2018</td>\n",
       "      <td>1.0.0</td>\n",
       "      <td>4.0.3 and up</td>\n",
       "    </tr>\n",
       "    <tr>\n",
       "      <th>1</th>\n",
       "      <td>Coloring book moana</td>\n",
       "      <td>ART_AND_DESIGN</td>\n",
       "      <td>3.9</td>\n",
       "      <td>967</td>\n",
       "      <td>14M</td>\n",
       "      <td>500,000+</td>\n",
       "      <td>Free</td>\n",
       "      <td>0</td>\n",
       "      <td>Everyone</td>\n",
       "      <td>Art &amp; Design;Pretend Play</td>\n",
       "      <td>January 15, 2018</td>\n",
       "      <td>2.0.0</td>\n",
       "      <td>4.0.3 and up</td>\n",
       "    </tr>\n",
       "    <tr>\n",
       "      <th>2</th>\n",
       "      <td>U Launcher Lite – FREE Live Cool Themes, Hide ...</td>\n",
       "      <td>ART_AND_DESIGN</td>\n",
       "      <td>4.7</td>\n",
       "      <td>87510</td>\n",
       "      <td>8.7M</td>\n",
       "      <td>5,000,000+</td>\n",
       "      <td>Free</td>\n",
       "      <td>0</td>\n",
       "      <td>Everyone</td>\n",
       "      <td>Art &amp; Design</td>\n",
       "      <td>August 1, 2018</td>\n",
       "      <td>1.2.4</td>\n",
       "      <td>4.0.3 and up</td>\n",
       "    </tr>\n",
       "    <tr>\n",
       "      <th>3</th>\n",
       "      <td>Sketch - Draw &amp; Paint</td>\n",
       "      <td>ART_AND_DESIGN</td>\n",
       "      <td>4.5</td>\n",
       "      <td>215644</td>\n",
       "      <td>25M</td>\n",
       "      <td>50,000,000+</td>\n",
       "      <td>Free</td>\n",
       "      <td>0</td>\n",
       "      <td>Teen</td>\n",
       "      <td>Art &amp; Design</td>\n",
       "      <td>June 8, 2018</td>\n",
       "      <td>Varies with device</td>\n",
       "      <td>4.2 and up</td>\n",
       "    </tr>\n",
       "    <tr>\n",
       "      <th>4</th>\n",
       "      <td>Pixel Draw - Number Art Coloring Book</td>\n",
       "      <td>ART_AND_DESIGN</td>\n",
       "      <td>4.3</td>\n",
       "      <td>967</td>\n",
       "      <td>2.8M</td>\n",
       "      <td>100,000+</td>\n",
       "      <td>Free</td>\n",
       "      <td>0</td>\n",
       "      <td>Everyone</td>\n",
       "      <td>Art &amp; Design;Creativity</td>\n",
       "      <td>June 20, 2018</td>\n",
       "      <td>1.1</td>\n",
       "      <td>4.4 and up</td>\n",
       "    </tr>\n",
       "  </tbody>\n",
       "</table>\n",
       "</div>"
      ],
      "text/plain": [
       "                                                 App        Category  Rating  \\\n",
       "0     Photo Editor & Candy Camera & Grid & ScrapBook  ART_AND_DESIGN     4.1   \n",
       "1                                Coloring book moana  ART_AND_DESIGN     3.9   \n",
       "2  U Launcher Lite – FREE Live Cool Themes, Hide ...  ART_AND_DESIGN     4.7   \n",
       "3                              Sketch - Draw & Paint  ART_AND_DESIGN     4.5   \n",
       "4              Pixel Draw - Number Art Coloring Book  ART_AND_DESIGN     4.3   \n",
       "\n",
       "  Reviews  Size     Installs  Type Price Content Rating  \\\n",
       "0     159   19M      10,000+  Free     0       Everyone   \n",
       "1     967   14M     500,000+  Free     0       Everyone   \n",
       "2   87510  8.7M   5,000,000+  Free     0       Everyone   \n",
       "3  215644   25M  50,000,000+  Free     0           Teen   \n",
       "4     967  2.8M     100,000+  Free     0       Everyone   \n",
       "\n",
       "                      Genres      Last Updated         Current Ver  \\\n",
       "0               Art & Design   January 7, 2018               1.0.0   \n",
       "1  Art & Design;Pretend Play  January 15, 2018               2.0.0   \n",
       "2               Art & Design    August 1, 2018               1.2.4   \n",
       "3               Art & Design      June 8, 2018  Varies with device   \n",
       "4    Art & Design;Creativity     June 20, 2018                 1.1   \n",
       "\n",
       "    Android Ver  \n",
       "0  4.0.3 and up  \n",
       "1  4.0.3 and up  \n",
       "2  4.0.3 and up  \n",
       "3    4.2 and up  \n",
       "4    4.4 and up  "
      ]
     },
     "execution_count": 3,
     "metadata": {},
     "output_type": "execute_result"
    }
   ],
   "source": [
    "df.head(5)"
   ]
  },
  {
   "cell_type": "code",
   "execution_count": 4,
   "metadata": {},
   "outputs": [
    {
     "data": {
      "text/html": [
       "<div>\n",
       "<style scoped>\n",
       "    .dataframe tbody tr th:only-of-type {\n",
       "        vertical-align: middle;\n",
       "    }\n",
       "\n",
       "    .dataframe tbody tr th {\n",
       "        vertical-align: top;\n",
       "    }\n",
       "\n",
       "    .dataframe thead th {\n",
       "        text-align: right;\n",
       "    }\n",
       "</style>\n",
       "<table border=\"1\" class=\"dataframe\">\n",
       "  <thead>\n",
       "    <tr style=\"text-align: right;\">\n",
       "      <th></th>\n",
       "      <th>App</th>\n",
       "      <th>Translated_Review</th>\n",
       "      <th>Sentiment</th>\n",
       "      <th>Sentiment_Polarity</th>\n",
       "      <th>Sentiment_Subjectivity</th>\n",
       "    </tr>\n",
       "  </thead>\n",
       "  <tbody>\n",
       "    <tr>\n",
       "      <th>0</th>\n",
       "      <td>10 Best Foods for You</td>\n",
       "      <td>I like eat delicious food. That's I'm cooking ...</td>\n",
       "      <td>Positive</td>\n",
       "      <td>1.00</td>\n",
       "      <td>0.533333</td>\n",
       "    </tr>\n",
       "    <tr>\n",
       "      <th>1</th>\n",
       "      <td>10 Best Foods for You</td>\n",
       "      <td>This help eating healthy exercise regular basis</td>\n",
       "      <td>Positive</td>\n",
       "      <td>0.25</td>\n",
       "      <td>0.288462</td>\n",
       "    </tr>\n",
       "    <tr>\n",
       "      <th>2</th>\n",
       "      <td>10 Best Foods for You</td>\n",
       "      <td>NaN</td>\n",
       "      <td>NaN</td>\n",
       "      <td>NaN</td>\n",
       "      <td>NaN</td>\n",
       "    </tr>\n",
       "    <tr>\n",
       "      <th>3</th>\n",
       "      <td>10 Best Foods for You</td>\n",
       "      <td>Works great especially going grocery store</td>\n",
       "      <td>Positive</td>\n",
       "      <td>0.40</td>\n",
       "      <td>0.875000</td>\n",
       "    </tr>\n",
       "    <tr>\n",
       "      <th>4</th>\n",
       "      <td>10 Best Foods for You</td>\n",
       "      <td>Best idea us</td>\n",
       "      <td>Positive</td>\n",
       "      <td>1.00</td>\n",
       "      <td>0.300000</td>\n",
       "    </tr>\n",
       "  </tbody>\n",
       "</table>\n",
       "</div>"
      ],
      "text/plain": [
       "                     App                                  Translated_Review  \\\n",
       "0  10 Best Foods for You  I like eat delicious food. That's I'm cooking ...   \n",
       "1  10 Best Foods for You    This help eating healthy exercise regular basis   \n",
       "2  10 Best Foods for You                                                NaN   \n",
       "3  10 Best Foods for You         Works great especially going grocery store   \n",
       "4  10 Best Foods for You                                       Best idea us   \n",
       "\n",
       "  Sentiment  Sentiment_Polarity  Sentiment_Subjectivity  \n",
       "0  Positive                1.00                0.533333  \n",
       "1  Positive                0.25                0.288462  \n",
       "2       NaN                 NaN                     NaN  \n",
       "3  Positive                0.40                0.875000  \n",
       "4  Positive                1.00                0.300000  "
      ]
     },
     "execution_count": 4,
     "metadata": {},
     "output_type": "execute_result"
    }
   ],
   "source": [
    "df_review.head(5)"
   ]
  },
  {
   "cell_type": "markdown",
   "metadata": {},
   "source": [
    "### Variable descritions df: \n",
    "<table>\n",
    "   \n",
    "   <colgroup>\n",
    "        <col width=\"100\">\n",
    "        <col width=\"200\">\n",
    "   </colgroup>\n",
    "\t\n",
    "    <tr>\n",
    "\t\t<th>Variable</th>\n",
    "\t\t<th>Description</th>\n",
    "\t</tr>\n",
    "    \n",
    "\t<tr>\n",
    "\t\t<td>App</td>\n",
    "\t\t<td>Application name</td>\n",
    "        \n",
    "\t</tr>\n",
    "    \t</tr>\n",
    "\t<tr>\n",
    "\t\t<td>Category</td>\n",
    "\t\t<td>Category the app belongs to</td>\n",
    "\t</tr>\n",
    "    \n",
    "            \n",
    "\t</tr>\n",
    "    \t</tr>\n",
    "\t<tr>\n",
    "\t\t<td>Rating</td>\n",
    "\t\t<td>Overall user rating of the app (as when scraped)</td>\n",
    "\t</tr>\n",
    "        \n",
    "        \n",
    "\t<tr>\n",
    "\t\t<td>Reviews</td>\n",
    "\t\t<td>Number of user reviews for the app (as when scraped)</td>\n",
    "\t</tr>\n",
    "        \n",
    "            \n",
    "\n",
    "\t<tr>\n",
    "\t\t<td>Size</td>\n",
    "\t\t<td>Size of the app (as when scraped)</td>\n",
    "\t</tr>\n",
    "        \n",
    "            \n",
    "\t<tr>\n",
    "\t\t<td>Installs</td>\n",
    "\t\t<td>Number of user downloads/installs for the app (as when scraped)</td>\n",
    "\t</tr>\n",
    "            \n",
    "            \n",
    "\t<tr>\n",
    "\t\t<td>Type</td>\n",
    "\t\t<td>Paid or Free</td>\n",
    "\t</tr>\n",
    "            \n",
    "         \n",
    "\t<tr>\n",
    "\t\t<td>Price</td>\n",
    "\t\t<td>Price of the app (as when scraped)</td>\n",
    "\t</tr>\n",
    "            \n",
    "\n",
    "\t<tr>\n",
    "\t\t<td>Content Rating</td>\n",
    "\t\t<td>Age group the app is targeted at - Children / Mature 21+ / Adult</td>\n",
    "\t</tr>\n",
    "                \n",
    "\t<tr>\n",
    "\t\t<td>GenresAn</td>\n",
    "\t\t<td> app can belong to multiple genres (apart from its main category). For eg, a musical family game will belong to Music, Game, Family genres.</td> \n",
    "\t</tr>\n",
    "\n",
    "\t<tr>\n",
    "\t\t<td>Last Updated</td>\n",
    "\t\t<td>Date when the app was last updated on Play Store (as when scraped)</td>\n",
    "\t</tr>\n",
    "                \n",
    "\n",
    "\t<tr>\n",
    "\t\t<td>Current Ver</td>\n",
    "\t\t<td>Current version of the app available on Play Store (as when scraped)</td>\n",
    "\t</tr>\n",
    "    \n",
    "    <tr>\n",
    "\t\t<td>Android Ver</td>\n",
    "\t\t<td>Min required Android version (as when scraped)</td>\n",
    "\t</tr>\n",
    "    \n",
    "</table>\n",
    "\n",
    "\n",
    "\n",
    "\n",
    "### Variable descritions df_review:\n",
    "\n",
    "<table>\n",
    "   \n",
    "   <colgroup>\n",
    "        <col width=\"100\">\n",
    "        <col width=\"200\">\n",
    "   </colgroup>\n",
    "\t\n",
    "    <tr>\n",
    "\t\t<th>Variable</th>\n",
    "\t\t<th>Description</th>\n",
    "\t</tr>\n",
    "    \n",
    "\t<tr>\n",
    "\t\t<td>Translated_Review</td>\n",
    "\t\t<td>User review (Preprocessed and translated to English)</td>\n",
    "        \n",
    "\t</tr>\n",
    "    \t</tr>\n",
    "\t<tr>\n",
    "\t\t<td>Sentiment</td>\n",
    "\t\t<td>Positive/Negative/Neutral (Preprocessed)</td>\n",
    "\t</tr>\n",
    "    \n",
    "    <tr>\n",
    "\t\t<td>Sentiment_Polarity</td>\n",
    "\t\t<td>Sentiment polarity score</td>\n",
    "\t</tr>\n",
    "    \n",
    "    <tr>\n",
    "\t\t<td>Sentiment_Subjectivity</td>\n",
    "\t\t<td>Sentiment subjectivity score</td>\n",
    "\t</tr>\n",
    "\n",
    "</table>\n",
    "\n",
    "\n",
    "\n",
    "\n",
    "\n",
    "<style>\n",
    "table { text-align: left }\n",
    "</style>"
   ]
  },
  {
   "cell_type": "markdown",
   "metadata": {},
   "source": [
    "# <span id=\"assess\">Assessing Data Set</span>"
   ]
  },
  {
   "cell_type": "markdown",
   "metadata": {},
   "source": [
    "## Programmatic Assessment"
   ]
  },
  {
   "cell_type": "code",
   "execution_count": 5,
   "metadata": {},
   "outputs": [
    {
     "name": "stdout",
     "output_type": "stream",
     "text": [
      "df data set has  10841 rows and  13 columns\n"
     ]
    }
   ],
   "source": [
    "print('df data set has ', df.shape[0], 'rows and ', df.shape[1], 'columns')"
   ]
  },
  {
   "cell_type": "code",
   "execution_count": 6,
   "metadata": {},
   "outputs": [
    {
     "name": "stdout",
     "output_type": "stream",
     "text": [
      "df_review data set has  64295 rows and  5 columns\n"
     ]
    }
   ],
   "source": [
    "print('df_review data set has ', df_review.shape[0], 'rows and ', df_review.shape[1], 'columns')"
   ]
  },
  {
   "cell_type": "code",
   "execution_count": 7,
   "metadata": {},
   "outputs": [
    {
     "name": "stdout",
     "output_type": "stream",
     "text": [
      "App <class 'str'>\n",
      "Category <class 'str'>\n",
      "Rating <class 'numpy.float64'>\n",
      "Reviews <class 'str'>\n",
      "Size <class 'str'>\n",
      "Installs <class 'str'>\n",
      "Type <class 'str'>\n",
      "Price <class 'str'>\n",
      "Content Rating <class 'str'>\n",
      "Genres <class 'str'>\n",
      "Last Updated <class 'str'>\n",
      "Current Ver <class 'str'>\n",
      "Android Ver <class 'str'>\n"
     ]
    }
   ],
   "source": [
    "#get class for columns\n",
    "def get_class(dataframe):\n",
    "    for col in list(dataframe):\n",
    "        print(col, type(dataframe[col][0]))\n",
    "\n",
    "get_class(df)"
   ]
  },
  {
   "cell_type": "code",
   "execution_count": 8,
   "metadata": {},
   "outputs": [
    {
     "name": "stdout",
     "output_type": "stream",
     "text": [
      "App <class 'str'>\n",
      "Translated_Review <class 'str'>\n",
      "Sentiment <class 'str'>\n",
      "Sentiment_Polarity <class 'numpy.float64'>\n",
      "Sentiment_Subjectivity <class 'numpy.float64'>\n"
     ]
    }
   ],
   "source": [
    "#get class for df_review data set\n",
    "#type(df_review['Translated_Review'][0])\n",
    "get_class(df_review)"
   ]
  },
  {
   "cell_type": "code",
   "execution_count": 9,
   "metadata": {},
   "outputs": [
    {
     "data": {
      "text/plain": [
       "Varies with device                      1459\n",
       "1.0                                      809\n",
       "1.1                                      264\n",
       "1.2                                      178\n",
       "2.0                                      151\n",
       "1.3                                      145\n",
       "1.0.0                                    136\n",
       "1.0.1                                    119\n",
       "1.4                                       88\n",
       "1.5                                       81\n",
       "1.0.2                                     80\n",
       "1.6                                       65\n",
       "1.0.3                                     62\n",
       "2.1                                       61\n",
       "3.0                                       59\n",
       "1.0.4                                     58\n",
       "1.7                                       53\n",
       "2.0.0                                     51\n",
       "1.0.5                                     50\n",
       "1.1.0                                     49\n",
       "1.1.1                                     48\n",
       "1.0.6                                     47\n",
       "1.2.1                                     46\n",
       "1.2.0                                     43\n",
       "1.8                                       42\n",
       "4.0                                       40\n",
       "1.9                                       37\n",
       "2.3.2                                     35\n",
       "1.0.7                                     34\n",
       "2.4                                       34\n",
       "                                        ... \n",
       "1.8.0.4                                    1\n",
       "5.2.4(881)                                 1\n",
       "2.6.7.487220                               1\n",
       "4.6.2100                                   1\n",
       "11.1.1                                     1\n",
       "2.5.0-prod                                 1\n",
       "3.22.0                                     1\n",
       "2.6.15                                     1\n",
       "0.0.80                                     1\n",
       "3.9.13                                     1\n",
       "fcbd82b2-dd5b-41d2-af62-432271c42921       1\n",
       "Cow V3.11                                  1\n",
       "1.13.299                                   1\n",
       "4.4.10                                     1\n",
       "7.9.0 (5192)                               1\n",
       "4.6.71                                     1\n",
       "2.60                                       1\n",
       "12.0.18071400                              1\n",
       "0.6.0                                      1\n",
       "1.0.70                                     1\n",
       "1.25.4                                     1\n",
       "1.0.204375696                              1\n",
       "4.2.1.4174                                 1\n",
       "1.00.00                                    1\n",
       "9.6.8                                      1\n",
       "4.0.13                                     1\n",
       "1.0.1.00613                                1\n",
       "9.1.284                                    1\n",
       "2.51                                       1\n",
       "1.0.17.2                                   1\n",
       "Name: Current Ver, Length: 2832, dtype: int64"
      ]
     },
     "execution_count": 9,
     "metadata": {},
     "output_type": "execute_result"
    }
   ],
   "source": [
    "#function value counts\n",
    "def get_vc(dataframe, col):\n",
    "    return df[col].value_counts()\n",
    "    \n",
    "get_vc(df, 'Current Ver')"
   ]
  },
  {
   "cell_type": "code",
   "execution_count": 10,
   "metadata": {},
   "outputs": [
    {
     "data": {
      "text/plain": [
       "4.1 and up            2451\n",
       "4.0.3 and up          1501\n",
       "4.0 and up            1375\n",
       "Varies with device    1362\n",
       "4.4 and up             980\n",
       "2.3 and up             652\n",
       "5.0 and up             601\n",
       "4.2 and up             394\n",
       "2.3.3 and up           281\n",
       "2.2 and up             244\n",
       "4.3 and up             243\n",
       "3.0 and up             241\n",
       "2.1 and up             134\n",
       "1.6 and up             116\n",
       "6.0 and up              60\n",
       "7.0 and up              42\n",
       "3.2 and up              36\n",
       "2.0 and up              32\n",
       "5.1 and up              24\n",
       "1.5 and up              20\n",
       "4.4W and up             12\n",
       "3.1 and up              10\n",
       "2.0.1 and up             7\n",
       "8.0 and up               6\n",
       "7.1 and up               3\n",
       "4.0.3 - 7.1.1            2\n",
       "5.0 - 8.0                2\n",
       "1.0 and up               2\n",
       "2.2 - 7.1.1              1\n",
       "4.1 - 7.1.1              1\n",
       "7.0 - 7.1.1              1\n",
       "5.0 - 7.1.1              1\n",
       "5.0 - 6.0                1\n",
       "Name: Android Ver, dtype: int64"
      ]
     },
     "execution_count": 10,
     "metadata": {},
     "output_type": "execute_result"
    }
   ],
   "source": [
    "get_vc(df, 'Android Ver')"
   ]
  },
  {
   "cell_type": "code",
   "execution_count": 11,
   "metadata": {
    "scrolled": true
   },
   "outputs": [
    {
     "name": "stdout",
     "output_type": "stream",
     "text": [
      "df has 483 duplicated values, while df_review has  33616 duplicated values\n"
     ]
    }
   ],
   "source": [
    "#Checking for duplicates\n",
    "print('df has', sum(df.duplicated()), 'duplicated values, while df_review has ', sum(df_review.duplicated()), 'duplicated values')"
   ]
  },
  {
   "cell_type": "code",
   "execution_count": 12,
   "metadata": {},
   "outputs": [
    {
     "data": {
      "text/html": [
       "<div>\n",
       "<style scoped>\n",
       "    .dataframe tbody tr th:only-of-type {\n",
       "        vertical-align: middle;\n",
       "    }\n",
       "\n",
       "    .dataframe tbody tr th {\n",
       "        vertical-align: top;\n",
       "    }\n",
       "\n",
       "    .dataframe thead th {\n",
       "        text-align: right;\n",
       "    }\n",
       "</style>\n",
       "<table border=\"1\" class=\"dataframe\">\n",
       "  <thead>\n",
       "    <tr style=\"text-align: right;\">\n",
       "      <th></th>\n",
       "      <th>App</th>\n",
       "      <th>Translated_Review</th>\n",
       "      <th>Sentiment</th>\n",
       "      <th>Sentiment_Polarity</th>\n",
       "      <th>Sentiment_Subjectivity</th>\n",
       "    </tr>\n",
       "  </thead>\n",
       "  <tbody>\n",
       "    <tr>\n",
       "      <th>7</th>\n",
       "      <td>10 Best Foods for You</td>\n",
       "      <td>NaN</td>\n",
       "      <td>NaN</td>\n",
       "      <td>NaN</td>\n",
       "      <td>NaN</td>\n",
       "    </tr>\n",
       "    <tr>\n",
       "      <th>15</th>\n",
       "      <td>10 Best Foods for You</td>\n",
       "      <td>NaN</td>\n",
       "      <td>NaN</td>\n",
       "      <td>NaN</td>\n",
       "      <td>NaN</td>\n",
       "    </tr>\n",
       "    <tr>\n",
       "      <th>78</th>\n",
       "      <td>10 Best Foods for You</td>\n",
       "      <td>Good</td>\n",
       "      <td>Positive</td>\n",
       "      <td>0.7</td>\n",
       "      <td>0.600000</td>\n",
       "    </tr>\n",
       "    <tr>\n",
       "      <th>79</th>\n",
       "      <td>10 Best Foods for You</td>\n",
       "      <td>Good</td>\n",
       "      <td>Positive</td>\n",
       "      <td>0.7</td>\n",
       "      <td>0.600000</td>\n",
       "    </tr>\n",
       "    <tr>\n",
       "      <th>100</th>\n",
       "      <td>10 Best Foods for You</td>\n",
       "      <td>I like eat delicious food. That's I'm cooking ...</td>\n",
       "      <td>Positive</td>\n",
       "      <td>1.0</td>\n",
       "      <td>0.533333</td>\n",
       "    </tr>\n",
       "  </tbody>\n",
       "</table>\n",
       "</div>"
      ],
      "text/plain": [
       "                       App                                  Translated_Review  \\\n",
       "7    10 Best Foods for You                                                NaN   \n",
       "15   10 Best Foods for You                                                NaN   \n",
       "78   10 Best Foods for You                                               Good   \n",
       "79   10 Best Foods for You                                               Good   \n",
       "100  10 Best Foods for You  I like eat delicious food. That's I'm cooking ...   \n",
       "\n",
       "    Sentiment  Sentiment_Polarity  Sentiment_Subjectivity  \n",
       "7         NaN                 NaN                     NaN  \n",
       "15        NaN                 NaN                     NaN  \n",
       "78   Positive                 0.7                0.600000  \n",
       "79   Positive                 0.7                0.600000  \n",
       "100  Positive                 1.0                0.533333  "
      ]
     },
     "execution_count": 12,
     "metadata": {},
     "output_type": "execute_result"
    }
   ],
   "source": [
    "#checking out some duplicates\n",
    "df_review[df_review.duplicated()][:5]"
   ]
  },
  {
   "cell_type": "markdown",
   "metadata": {},
   "source": [
    "## Assessment\n",
    "\n",
    "### Visual Assessment \n",
    "**Quality issues df:** \n",
    "\n",
    "- Size has \"M\" at the end\n",
    "- Installs has \",\" between thousends and \"+\" at the end\n",
    "- Genres contains multiple values\n",
    "- Last Updated has text and numbers\n",
    "- Android version has \"and up\" in text\n",
    "\n",
    "**Quality issues df_review:** \n",
    "- No quality issues detected on visual assessment\n",
    "\n",
    "### Programmatic Assessment\n",
    "\n",
    "**Quality issues df:** \n",
    "\n",
    "- Rating, Reviews, Size, Installs, Price should be int / float\n",
    "- Last Updated should be datetime format\n",
    "- Check if string format in Current Ver and Android Ver is right\n",
    "- Current Ver, Last updated, Android ver, Content Rating should be renamed to name_2ndname\n",
    "- Current Ver should be categorical \n",
    "- Android Ver should be categorical\n",
    "- Text values should be replaced with n/a in Current Ver\n",
    "- Column names should all be lowercase\n",
    "- df has 483 duplicated values\n",
    "\n",
    "**Quality issues df_review:** \n",
    "- Sentiment_Polarity and Sentiment_Subjectivity should be floats\n",
    "- Sentiment_Polarity and Sentiment_Subjectivity should be lowercase\n",
    "- df_review has 33616 duplicated values \n",
    "\n",
    "**Null values will be assessed and dicussed after dropping duplicates in the <a href=\"#clean\">Cleaning</a> part**"
   ]
  },
  {
   "cell_type": "markdown",
   "metadata": {},
   "source": [
    "# <span id=\"clean\">Cleaning Data Set</span>"
   ]
  },
  {
   "cell_type": "markdown",
   "metadata": {},
   "source": [
    "**Problems targeted:**\n",
    "- Current Ver, Last updated, Android ver, Content Rating should be renamed to name_2ndname\n",
    "- Column names should all be lowercase\n",
    "- Sentiment_Polarity and Sentiment_Subjectivity should be floats\n",
    "- Sentiment_Polarity and Sentiment_Subjectivity should be lowercase\n"
   ]
  },
  {
   "cell_type": "code",
   "execution_count": 13,
   "metadata": {},
   "outputs": [
    {
     "name": "stdout",
     "output_type": "stream",
     "text": [
      "Index(['app', 'category', 'rating', 'reviews', 'size', 'installs', 'type',\n",
      "       'price', 'content_rating', 'genres', 'last_updated', 'current_ver',\n",
      "       'android_ver'],\n",
      "      dtype='object') Index(['app', 'translated_review', 'sentiment', 'sentiment_polarity',\n",
      "       'sentiment_subjectivity'],\n",
      "      dtype='object')\n"
     ]
    }
   ],
   "source": [
    "# lets fix the column names first\n",
    "df.columns = df.columns.str.lower().str.replace(' ', '_')\n",
    "df_review.columns = df_review.columns.str.lower()\n",
    "\n",
    "#check outcome\n",
    "print(df.columns, df_review.columns)"
   ]
  },
  {
   "cell_type": "markdown",
   "metadata": {},
   "source": [
    "**Problems targeted:**\n",
    "\n",
    "- df has 483 duplicated values\n",
    "- df_review has 33616 duplicated values "
   ]
  },
  {
   "cell_type": "code",
   "execution_count": 14,
   "metadata": {},
   "outputs": [
    {
     "name": "stdout",
     "output_type": "stream",
     "text": [
      "df has 0 duplicated values, while df_review has 0 duplicated values\n"
     ]
    }
   ],
   "source": [
    "#Get rid of duplicates\n",
    "df = df.drop_duplicates()\n",
    "df_review = df_review.drop_duplicates()\n",
    "\n",
    "#check it\n",
    "#Checking for duplicates\n",
    "print('df has', sum(df.duplicated()), 'duplicated values, while df_review has', sum(df_review.duplicated()), 'duplicated values')"
   ]
  },
  {
   "cell_type": "code",
   "execution_count": 15,
   "metadata": {},
   "outputs": [
    {
     "name": "stdout",
     "output_type": "stream",
     "text": [
      "app has 0 null values\n",
      "category has 0 null values\n",
      "rating has 1465 null values\n",
      "reviews has 0 null values\n",
      "size has 0 null values\n",
      "installs has 0 null values\n",
      "type has 1 null values\n",
      "price has 0 null values\n",
      "content_rating has 1 null values\n",
      "genres has 0 null values\n",
      "last_updated has 0 null values\n",
      "current_ver has 8 null values\n",
      "android_ver has 3 null values\n",
      "app has 0 null values\n",
      "translated_review has 987 null values\n",
      "sentiment has 982 null values\n",
      "sentiment_polarity has 982 null values\n",
      "sentiment_subjectivity has 982 null values\n"
     ]
    },
    {
     "data": {
      "text/plain": [
       "(None, None)"
      ]
     },
     "execution_count": 15,
     "metadata": {},
     "output_type": "execute_result"
    }
   ],
   "source": [
    "#getting null values\n",
    "def get_null(dataframe):\n",
    "    for col in dataframe:\n",
    "        print(col, 'has', sum(dataframe[col].isnull()), 'null values')\n",
    "        \n",
    "get_null(df), get_null(df_review)"
   ]
  },
  {
   "cell_type": "code",
   "execution_count": 16,
   "metadata": {},
   "outputs": [
    {
     "name": "stdout",
     "output_type": "stream",
     "text": [
      "app has 0 null values\n",
      "translated_review has 5 null values\n",
      "sentiment has 0 null values\n",
      "sentiment_polarity has 0 null values\n",
      "sentiment_subjectivity has 0 null values\n"
     ]
    }
   ],
   "source": [
    "#Dropping all rows with null values in sentiments variables\n",
    "df_review = df_review.dropna(subset=['sentiment', 'sentiment_polarity', 'sentiment_subjectivity'])\n",
    "\n",
    "#checking outcome\n",
    "get_null(df_review)"
   ]
  },
  {
   "cell_type": "markdown",
   "metadata": {},
   "source": [
    "**Problems targeted:**\n",
    "\n",
    "- Size has \"M\" at the end\n"
   ]
  },
  {
   "cell_type": "code",
   "execution_count": 17,
   "metadata": {},
   "outputs": [
    {
     "data": {
      "text/plain": [
       "Varies with device    1526\n",
       "11M                    188\n",
       "Name: size, dtype: int64"
      ]
     },
     "execution_count": 17,
     "metadata": {},
     "output_type": "execute_result"
    }
   ],
   "source": [
    "df['size'].value_counts()[:2]"
   ]
  },
  {
   "cell_type": "code",
   "execution_count": 18,
   "metadata": {},
   "outputs": [],
   "source": [
    "#replacing \"Varies with device\" into n/a\n",
    "df['size'] = df['size'].replace('Varies with device', np.NAN)"
   ]
  },
  {
   "cell_type": "code",
   "execution_count": 19,
   "metadata": {},
   "outputs": [],
   "source": [
    "#removing the 'M' from the cells\n",
    "df['size'] = df['size'].apply(lambda x: np.NAN if pd.isnull(x) else x.split('M')[0])\n"
   ]
  },
  {
   "cell_type": "markdown",
   "metadata": {},
   "source": [
    "**Problems targeted:**\n",
    "\n",
    "- Installs has \",\" between thousends and \"+\" at the end\n",
    "\n"
   ]
  },
  {
   "cell_type": "code",
   "execution_count": 20,
   "metadata": {},
   "outputs": [
    {
     "data": {
      "text/plain": [
       "1,000,000+        1488\n",
       "10,000,000+       1132\n",
       "100,000+          1129\n",
       "10,000+           1033\n",
       "1,000+             890\n",
       "100+               710\n",
       "5,000,000+         683\n",
       "500,000+           517\n",
       "50,000+            474\n",
       "5,000+             469\n",
       "10+                385\n",
       "100,000,000+       369\n",
       "500+               328\n",
       "50,000,000+        272\n",
       "50+                204\n",
       "5+                  82\n",
       "1+                  67\n",
       "500,000,000+        61\n",
       "1,000,000,000+      49\n",
       "0+                  14\n",
       "Free                 1\n",
       "0                    1\n",
       "Name: installs, dtype: int64"
      ]
     },
     "execution_count": 20,
     "metadata": {},
     "output_type": "execute_result"
    }
   ],
   "source": [
    "df.installs.value_counts()"
   ]
  },
  {
   "cell_type": "code",
   "execution_count": 21,
   "metadata": {},
   "outputs": [],
   "source": [
    "#The value_counts show that this can be remained, free must be transformed to n/a\n",
    "df['installs'] = df['installs'].apply(lambda x: np.NAN if x == \"Free\" else x)\n",
    "df['installs'] = df['installs'].astype('category')"
   ]
  },
  {
   "cell_type": "code",
   "execution_count": 22,
   "metadata": {
    "scrolled": false
   },
   "outputs": [
    {
     "data": {
      "text/plain": [
       "1,000,000+        1488\n",
       "10,000,000+       1132\n",
       "100,000+          1129\n",
       "10,000+           1033\n",
       "1,000+             890\n",
       "100+               710\n",
       "5,000,000+         683\n",
       "500,000+           517\n",
       "50,000+            474\n",
       "5,000+             469\n",
       "10+                385\n",
       "100,000,000+       369\n",
       "500+               328\n",
       "50,000,000+        272\n",
       "50+                204\n",
       "5+                  82\n",
       "1+                  67\n",
       "500,000,000+        61\n",
       "1,000,000,000+      49\n",
       "0+                  14\n",
       "0                    1\n",
       "Name: installs, dtype: int64"
      ]
     },
     "execution_count": 22,
     "metadata": {},
     "output_type": "execute_result"
    }
   ],
   "source": [
    "df.installs.value_counts()"
   ]
  },
  {
   "cell_type": "markdown",
   "metadata": {},
   "source": [
    "**Problems targeted:**\n",
    "- Genres contains multiple values\n",
    "\n"
   ]
  },
  {
   "cell_type": "code",
   "execution_count": 23,
   "metadata": {},
   "outputs": [
    {
     "data": {
      "text/plain": [
       "Creativity           37\n",
       "Word                 28\n",
       "Music                24\n",
       "Music & Audio         1\n",
       "February 11, 2018     1\n",
       "dtype: int64"
      ]
     },
     "execution_count": 23,
     "metadata": {},
     "output_type": "execute_result"
    }
   ],
   "source": [
    "df_genre = (df['genres'].str.split(';', expand=True).rename(columns=lambda x: f\"genres_{x+1}\"))\n",
    "df_genre.stack().value_counts()[-5:]"
   ]
  },
  {
   "cell_type": "code",
   "execution_count": 24,
   "metadata": {},
   "outputs": [],
   "source": [
    "#combining some similar categories\n",
    "df_genre['genres_1'] = df_genre['genres_1'].replace('Music & Audio', 'Music')\n",
    "df_genre['genres_2'] = df_genre['genres_2'].replace('Music & Audio', 'Music')\n",
    "df_genre['genres_1'] = df_genre['genres_1'].replace('February 11, 2018', np.NAN)\n",
    "df_genre['genres_1'] = df_genre['genres_1'].replace('Educational', 'Education')\n",
    "df_genre['genres_2'] = df_genre['genres_2'].replace('Educational', 'Education')"
   ]
  },
  {
   "cell_type": "code",
   "execution_count": 25,
   "metadata": {},
   "outputs": [
    {
     "data": {
      "text/plain": [
       "Card      51\n",
       "Casino    39\n",
       "Trivia    39\n",
       "Word      28\n",
       "Music     25\n",
       "Name: genres_1, dtype: int64"
      ]
     },
     "execution_count": 25,
     "metadata": {},
     "output_type": "execute_result"
    }
   ],
   "source": [
    "df_genre.genres_1.value_counts()[-5:]"
   ]
  },
  {
   "cell_type": "code",
   "execution_count": 26,
   "metadata": {},
   "outputs": [],
   "source": [
    "#combininng data sets\n",
    "df = df.join([df_genre])\n",
    "df = df.drop('genres', axis=1)\n"
   ]
  },
  {
   "cell_type": "markdown",
   "metadata": {},
   "source": [
    "**Problems targeted:**\n",
    "\n",
    "- Last Updated has text and numbers\n",
    "- Last Updated should be datetime format"
   ]
  },
  {
   "cell_type": "code",
   "execution_count": 27,
   "metadata": {},
   "outputs": [],
   "source": [
    "from datetime import datetime"
   ]
  },
  {
   "cell_type": "code",
   "execution_count": 28,
   "metadata": {},
   "outputs": [
    {
     "name": "stdout",
     "output_type": "stream",
     "text": [
      "not working time data '1.0.19' does not match format '%B %d, %Y'\n"
     ]
    }
   ],
   "source": [
    "#Try \n",
    "try:\n",
    "    df['last_updated'] = df['last_updated'].apply(lambda x: datetime.strptime(x, '%B %d, %Y'))\n",
    "except Exception as e:\n",
    "        print('not working', e)\n",
    "    \n",
    "#Dropping Life Made WI-Fi Touchscreen Phto Frame since many datapoints are missing\n",
    "df.drop(10472, inplace=True)\n",
    "\n",
    "try:\n",
    "    df['last_updated'] = df['last_updated'].apply(lambda x: datetime.strptime(x, '%B %d, %Y'))\n",
    "except Exception as e:\n",
    "        print('not working', e)"
   ]
  },
  {
   "cell_type": "code",
   "execution_count": 29,
   "metadata": {},
   "outputs": [
    {
     "data": {
      "text/html": [
       "<div>\n",
       "<style scoped>\n",
       "    .dataframe tbody tr th:only-of-type {\n",
       "        vertical-align: middle;\n",
       "    }\n",
       "\n",
       "    .dataframe tbody tr th {\n",
       "        vertical-align: top;\n",
       "    }\n",
       "\n",
       "    .dataframe thead th {\n",
       "        text-align: right;\n",
       "    }\n",
       "</style>\n",
       "<table border=\"1\" class=\"dataframe\">\n",
       "  <thead>\n",
       "    <tr style=\"text-align: right;\">\n",
       "      <th></th>\n",
       "      <th>app</th>\n",
       "      <th>category</th>\n",
       "      <th>rating</th>\n",
       "      <th>reviews</th>\n",
       "      <th>size</th>\n",
       "      <th>installs</th>\n",
       "      <th>type</th>\n",
       "      <th>price</th>\n",
       "      <th>content_rating</th>\n",
       "      <th>last_updated</th>\n",
       "      <th>current_ver</th>\n",
       "      <th>android_ver</th>\n",
       "      <th>genres_1</th>\n",
       "      <th>genres_2</th>\n",
       "    </tr>\n",
       "  </thead>\n",
       "  <tbody>\n",
       "    <tr>\n",
       "      <th>0</th>\n",
       "      <td>Photo Editor &amp; Candy Camera &amp; Grid &amp; ScrapBook</td>\n",
       "      <td>ART_AND_DESIGN</td>\n",
       "      <td>4.1</td>\n",
       "      <td>159</td>\n",
       "      <td>19</td>\n",
       "      <td>10,000+</td>\n",
       "      <td>Free</td>\n",
       "      <td>0</td>\n",
       "      <td>Everyone</td>\n",
       "      <td>2018-01-07</td>\n",
       "      <td>1.0.0</td>\n",
       "      <td>4.0.3 and up</td>\n",
       "      <td>Art &amp; Design</td>\n",
       "      <td>None</td>\n",
       "    </tr>\n",
       "    <tr>\n",
       "      <th>1</th>\n",
       "      <td>Coloring book moana</td>\n",
       "      <td>ART_AND_DESIGN</td>\n",
       "      <td>3.9</td>\n",
       "      <td>967</td>\n",
       "      <td>14</td>\n",
       "      <td>500,000+</td>\n",
       "      <td>Free</td>\n",
       "      <td>0</td>\n",
       "      <td>Everyone</td>\n",
       "      <td>2018-01-15</td>\n",
       "      <td>2.0.0</td>\n",
       "      <td>4.0.3 and up</td>\n",
       "      <td>Art &amp; Design</td>\n",
       "      <td>Pretend Play</td>\n",
       "    </tr>\n",
       "  </tbody>\n",
       "</table>\n",
       "</div>"
      ],
      "text/plain": [
       "                                              app        category  rating  \\\n",
       "0  Photo Editor & Candy Camera & Grid & ScrapBook  ART_AND_DESIGN     4.1   \n",
       "1                             Coloring book moana  ART_AND_DESIGN     3.9   \n",
       "\n",
       "  reviews size  installs  type price content_rating last_updated current_ver  \\\n",
       "0     159   19   10,000+  Free     0       Everyone   2018-01-07       1.0.0   \n",
       "1     967   14  500,000+  Free     0       Everyone   2018-01-15       2.0.0   \n",
       "\n",
       "    android_ver      genres_1      genres_2  \n",
       "0  4.0.3 and up  Art & Design          None  \n",
       "1  4.0.3 and up  Art & Design  Pretend Play  "
      ]
     },
     "execution_count": 29,
     "metadata": {},
     "output_type": "execute_result"
    }
   ],
   "source": [
    "df.head(2)"
   ]
  },
  {
   "cell_type": "markdown",
   "metadata": {},
   "source": [
    "**Problems targeted:**\n",
    "- Fix df_size formats\n",
    "\n"
   ]
  },
  {
   "cell_type": "code",
   "execution_count": 30,
   "metadata": {},
   "outputs": [],
   "source": [
    "#Resetting Index\n",
    "df = df.reset_index(drop=True)\n",
    "\n",
    "#checking if some 0 are contained in df\n",
    "df.query('size==\"0\"')\n",
    "\n",
    "#Replacing float np.NAN with string 0\n",
    "df['size'].replace(np.NAN, '0', inplace=True)\n",
    "\n",
    "#removing the \"k\" at the end of a number\n",
    "df['size'] = df['size'].apply(lambda x: x.split('k')[0] if x[-1]=='k' else x)\n",
    "\n",
    "#transform the 0 again \n",
    "df['size'].replace('0', np.NAN, inplace=True)\n",
    "\n"
   ]
  },
  {
   "cell_type": "markdown",
   "metadata": {},
   "source": [
    "**Problems targeted:**\n",
    "- Fix df_size formats"
   ]
  },
  {
   "cell_type": "code",
   "execution_count": 31,
   "metadata": {},
   "outputs": [],
   "source": [
    "df['price'] = df['price'].apply(lambda x: x.split('$')[1] if x[0]=='$' else x)"
   ]
  },
  {
   "cell_type": "markdown",
   "metadata": {},
   "source": [
    "**Problems targeted:**\n",
    "- Rating, Reviews, Size, Installs, Price should be int / float\n",
    "- Sentiment_Polarity and Sentiment_Subjectivity should be floats\n"
   ]
  },
  {
   "cell_type": "code",
   "execution_count": 32,
   "metadata": {},
   "outputs": [],
   "source": [
    "#fixing dtype in df DataFrame\n",
    "df['rating'] = df['rating'].astype(float)\n",
    "df['reviews'] = df['reviews'].astype(int)\n",
    "df['size'] = df['size'].astype(float)\n",
    "df['price'] = df['price'].astype(float)\n",
    "df['genres_2'] = df['genres_2'].astype(str)\n",
    "\n",
    "#fixing dtype in df_review DataFrame\n",
    "df_review['sentiment_polarity'] = df_review['sentiment_polarity'].astype(float)\n",
    "df_review['sentiment_subjectivity'] = df_review['sentiment_subjectivity'].astype(float)"
   ]
  },
  {
   "cell_type": "markdown",
   "metadata": {},
   "source": [
    "**Problems targeted:**\n",
    "- Android version has \"and up\" in text\n",
    "- Check if string format in Current Ver and Android Ver is right"
   ]
  },
  {
   "cell_type": "code",
   "execution_count": 33,
   "metadata": {},
   "outputs": [],
   "source": [
    "df['android_ver'] = df['android_ver'].astype('category')\n",
    "\n",
    "#seems ok"
   ]
  },
  {
   "cell_type": "code",
   "execution_count": 34,
   "metadata": {},
   "outputs": [
    {
     "name": "stdout",
     "output_type": "stream",
     "text": [
      "app <class 'str'>\n",
      "category <class 'str'>\n",
      "rating <class 'numpy.float64'>\n",
      "reviews <class 'numpy.int64'>\n",
      "size <class 'numpy.float64'>\n",
      "installs <class 'str'>\n",
      "type <class 'str'>\n",
      "price <class 'numpy.float64'>\n",
      "content_rating <class 'str'>\n",
      "last_updated <class 'pandas._libs.tslibs.timestamps.Timestamp'>\n",
      "current_ver <class 'str'>\n",
      "android_ver <class 'str'>\n",
      "genres_1 <class 'str'>\n",
      "genres_2 <class 'str'>\n",
      "app <class 'str'>\n",
      "translated_review <class 'str'>\n",
      "sentiment <class 'str'>\n",
      "sentiment_polarity <class 'numpy.float64'>\n",
      "sentiment_subjectivity <class 'numpy.float64'>\n"
     ]
    },
    {
     "data": {
      "text/plain": [
       "(None, None)"
      ]
     },
     "execution_count": 34,
     "metadata": {},
     "output_type": "execute_result"
    }
   ],
   "source": [
    "get_class(df), get_class(df_review)"
   ]
  },
  {
   "cell_type": "code",
   "execution_count": 54,
   "metadata": {},
   "outputs": [],
   "source": [
    "df.to_csv('df_clean.csv')\n",
    "df_review.to_csv('df_review_clean.csv')"
   ]
  },
  {
   "cell_type": "markdown",
   "metadata": {},
   "source": [
    "# <span id=\"analyze\">Analyze Data Set</span>"
   ]
  },
  {
   "cell_type": "code",
   "execution_count": null,
   "metadata": {},
   "outputs": [],
   "source": []
  },
  {
   "cell_type": "code",
   "execution_count": null,
   "metadata": {},
   "outputs": [],
   "source": []
  },
  {
   "cell_type": "code",
   "execution_count": null,
   "metadata": {},
   "outputs": [],
   "source": []
  },
  {
   "cell_type": "markdown",
   "metadata": {},
   "source": [
    "# <span id=\"if\">Inferential Satistics</span>"
   ]
  },
  {
   "cell_type": "code",
   "execution_count": null,
   "metadata": {},
   "outputs": [],
   "source": []
  },
  {
   "cell_type": "code",
   "execution_count": null,
   "metadata": {},
   "outputs": [],
   "source": []
  },
  {
   "cell_type": "code",
   "execution_count": null,
   "metadata": {},
   "outputs": [],
   "source": []
  },
  {
   "cell_type": "markdown",
   "metadata": {},
   "source": [
    "# <span id=\"findings\">Main Findings</span>"
   ]
  },
  {
   "cell_type": "code",
   "execution_count": null,
   "metadata": {},
   "outputs": [],
   "source": [
    "# try to use bokeh!!!"
   ]
  },
  {
   "cell_type": "code",
   "execution_count": null,
   "metadata": {},
   "outputs": [],
   "source": []
  }
 ],
 "metadata": {
  "kernelspec": {
   "display_name": "Python [conda env:anaconda3]",
   "language": "python",
   "name": "conda-env-anaconda3-py"
  },
  "language_info": {
   "codemirror_mode": {
    "name": "ipython",
    "version": 3
   },
   "file_extension": ".py",
   "mimetype": "text/x-python",
   "name": "python",
   "nbconvert_exporter": "python",
   "pygments_lexer": "ipython3",
   "version": "3.6.6"
  }
 },
 "nbformat": 4,
 "nbformat_minor": 2
}
