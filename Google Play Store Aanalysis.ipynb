{
 "cells": [
  {
   "cell_type": "code",
   "execution_count": 1,
   "metadata": {},
   "outputs": [],
   "source": [
    "import pandas as pd\n",
    "import numpy as np\n",
    "import statistics \n",
    "import matplotlib.pyplot as plt\n",
    "%matplotlib inline\n",
    "from matplotlib.patches import Polygon\n",
    "import seaborn as sns\n",
    "sns.set(style=\"ticks\")\n",
    "from scipy import stats\n",
    "import bokeh as bo"
   ]
  },
  {
   "cell_type": "markdown",
   "metadata": {},
   "source": [
    "# Introduciton\n",
    "\n",
    "1. <a href=\"#gather\">Gathering Data Set</a>\n",
    "\n",
    "2. <a href=\"#assess\">Assessing Data Set</a>\n",
    "\n",
    "3. <a href=\"#clean\">Cleaning Data Set</a>\n",
    "\n",
    "4. <a href=\"#analyze\">Analyze Data Set</a>\n",
    "\n",
    "5. <a href=\"#if\">Inferential Statistics</a>\n",
    "\n",
    "6. <a href=\"#findings\">Main Findings</a>\n",
    "\n"
   ]
  },
  {
   "cell_type": "markdown",
   "metadata": {},
   "source": [
    "# <span id=\"gather\">Gathering Data Set</span>"
   ]
  },
  {
   "cell_type": "markdown",
   "metadata": {},
   "source": [
    "Data Set available on Kaggle: <a href=\"https://www.kaggle.com/lava18/google-play-store-apps\">Find Data Set</a>"
   ]
  },
  {
   "cell_type": "code",
   "execution_count": 2,
   "metadata": {},
   "outputs": [],
   "source": [
    "df = pd.read_csv('googleplaystore.csv')\n",
    "df_review = pd.read_csv('googleplaystore_user_reviews.csv')"
   ]
  },
  {
   "cell_type": "code",
   "execution_count": 3,
   "metadata": {},
   "outputs": [
    {
     "data": {
      "text/html": [
       "<div>\n",
       "<style scoped>\n",
       "    .dataframe tbody tr th:only-of-type {\n",
       "        vertical-align: middle;\n",
       "    }\n",
       "\n",
       "    .dataframe tbody tr th {\n",
       "        vertical-align: top;\n",
       "    }\n",
       "\n",
       "    .dataframe thead th {\n",
       "        text-align: right;\n",
       "    }\n",
       "</style>\n",
       "<table border=\"1\" class=\"dataframe\">\n",
       "  <thead>\n",
       "    <tr style=\"text-align: right;\">\n",
       "      <th></th>\n",
       "      <th>App</th>\n",
       "      <th>Category</th>\n",
       "      <th>Rating</th>\n",
       "      <th>Reviews</th>\n",
       "      <th>Size</th>\n",
       "      <th>Installs</th>\n",
       "      <th>Type</th>\n",
       "      <th>Price</th>\n",
       "      <th>Content Rating</th>\n",
       "      <th>Genres</th>\n",
       "      <th>Last Updated</th>\n",
       "      <th>Current Ver</th>\n",
       "      <th>Android Ver</th>\n",
       "    </tr>\n",
       "  </thead>\n",
       "  <tbody>\n",
       "    <tr>\n",
       "      <th>0</th>\n",
       "      <td>Photo Editor &amp; Candy Camera &amp; Grid &amp; ScrapBook</td>\n",
       "      <td>ART_AND_DESIGN</td>\n",
       "      <td>4.1</td>\n",
       "      <td>159</td>\n",
       "      <td>19M</td>\n",
       "      <td>10,000+</td>\n",
       "      <td>Free</td>\n",
       "      <td>0</td>\n",
       "      <td>Everyone</td>\n",
       "      <td>Art &amp; Design</td>\n",
       "      <td>January 7, 2018</td>\n",
       "      <td>1.0.0</td>\n",
       "      <td>4.0.3 and up</td>\n",
       "    </tr>\n",
       "    <tr>\n",
       "      <th>1</th>\n",
       "      <td>Coloring book moana</td>\n",
       "      <td>ART_AND_DESIGN</td>\n",
       "      <td>3.9</td>\n",
       "      <td>967</td>\n",
       "      <td>14M</td>\n",
       "      <td>500,000+</td>\n",
       "      <td>Free</td>\n",
       "      <td>0</td>\n",
       "      <td>Everyone</td>\n",
       "      <td>Art &amp; Design;Pretend Play</td>\n",
       "      <td>January 15, 2018</td>\n",
       "      <td>2.0.0</td>\n",
       "      <td>4.0.3 and up</td>\n",
       "    </tr>\n",
       "    <tr>\n",
       "      <th>2</th>\n",
       "      <td>U Launcher Lite – FREE Live Cool Themes, Hide ...</td>\n",
       "      <td>ART_AND_DESIGN</td>\n",
       "      <td>4.7</td>\n",
       "      <td>87510</td>\n",
       "      <td>8.7M</td>\n",
       "      <td>5,000,000+</td>\n",
       "      <td>Free</td>\n",
       "      <td>0</td>\n",
       "      <td>Everyone</td>\n",
       "      <td>Art &amp; Design</td>\n",
       "      <td>August 1, 2018</td>\n",
       "      <td>1.2.4</td>\n",
       "      <td>4.0.3 and up</td>\n",
       "    </tr>\n",
       "    <tr>\n",
       "      <th>3</th>\n",
       "      <td>Sketch - Draw &amp; Paint</td>\n",
       "      <td>ART_AND_DESIGN</td>\n",
       "      <td>4.5</td>\n",
       "      <td>215644</td>\n",
       "      <td>25M</td>\n",
       "      <td>50,000,000+</td>\n",
       "      <td>Free</td>\n",
       "      <td>0</td>\n",
       "      <td>Teen</td>\n",
       "      <td>Art &amp; Design</td>\n",
       "      <td>June 8, 2018</td>\n",
       "      <td>Varies with device</td>\n",
       "      <td>4.2 and up</td>\n",
       "    </tr>\n",
       "    <tr>\n",
       "      <th>4</th>\n",
       "      <td>Pixel Draw - Number Art Coloring Book</td>\n",
       "      <td>ART_AND_DESIGN</td>\n",
       "      <td>4.3</td>\n",
       "      <td>967</td>\n",
       "      <td>2.8M</td>\n",
       "      <td>100,000+</td>\n",
       "      <td>Free</td>\n",
       "      <td>0</td>\n",
       "      <td>Everyone</td>\n",
       "      <td>Art &amp; Design;Creativity</td>\n",
       "      <td>June 20, 2018</td>\n",
       "      <td>1.1</td>\n",
       "      <td>4.4 and up</td>\n",
       "    </tr>\n",
       "  </tbody>\n",
       "</table>\n",
       "</div>"
      ],
      "text/plain": [
       "                                                 App        Category  Rating  \\\n",
       "0     Photo Editor & Candy Camera & Grid & ScrapBook  ART_AND_DESIGN     4.1   \n",
       "1                                Coloring book moana  ART_AND_DESIGN     3.9   \n",
       "2  U Launcher Lite – FREE Live Cool Themes, Hide ...  ART_AND_DESIGN     4.7   \n",
       "3                              Sketch - Draw & Paint  ART_AND_DESIGN     4.5   \n",
       "4              Pixel Draw - Number Art Coloring Book  ART_AND_DESIGN     4.3   \n",
       "\n",
       "  Reviews  Size     Installs  Type Price Content Rating  \\\n",
       "0     159   19M      10,000+  Free     0       Everyone   \n",
       "1     967   14M     500,000+  Free     0       Everyone   \n",
       "2   87510  8.7M   5,000,000+  Free     0       Everyone   \n",
       "3  215644   25M  50,000,000+  Free     0           Teen   \n",
       "4     967  2.8M     100,000+  Free     0       Everyone   \n",
       "\n",
       "                      Genres      Last Updated         Current Ver  \\\n",
       "0               Art & Design   January 7, 2018               1.0.0   \n",
       "1  Art & Design;Pretend Play  January 15, 2018               2.0.0   \n",
       "2               Art & Design    August 1, 2018               1.2.4   \n",
       "3               Art & Design      June 8, 2018  Varies with device   \n",
       "4    Art & Design;Creativity     June 20, 2018                 1.1   \n",
       "\n",
       "    Android Ver  \n",
       "0  4.0.3 and up  \n",
       "1  4.0.3 and up  \n",
       "2  4.0.3 and up  \n",
       "3    4.2 and up  \n",
       "4    4.4 and up  "
      ]
     },
     "execution_count": 3,
     "metadata": {},
     "output_type": "execute_result"
    }
   ],
   "source": [
    "df.head(5)"
   ]
  },
  {
   "cell_type": "code",
   "execution_count": 4,
   "metadata": {},
   "outputs": [
    {
     "data": {
      "text/html": [
       "<div>\n",
       "<style scoped>\n",
       "    .dataframe tbody tr th:only-of-type {\n",
       "        vertical-align: middle;\n",
       "    }\n",
       "\n",
       "    .dataframe tbody tr th {\n",
       "        vertical-align: top;\n",
       "    }\n",
       "\n",
       "    .dataframe thead th {\n",
       "        text-align: right;\n",
       "    }\n",
       "</style>\n",
       "<table border=\"1\" class=\"dataframe\">\n",
       "  <thead>\n",
       "    <tr style=\"text-align: right;\">\n",
       "      <th></th>\n",
       "      <th>App</th>\n",
       "      <th>Translated_Review</th>\n",
       "      <th>Sentiment</th>\n",
       "      <th>Sentiment_Polarity</th>\n",
       "      <th>Sentiment_Subjectivity</th>\n",
       "    </tr>\n",
       "  </thead>\n",
       "  <tbody>\n",
       "    <tr>\n",
       "      <th>0</th>\n",
       "      <td>10 Best Foods for You</td>\n",
       "      <td>I like eat delicious food. That's I'm cooking ...</td>\n",
       "      <td>Positive</td>\n",
       "      <td>1.00</td>\n",
       "      <td>0.533333</td>\n",
       "    </tr>\n",
       "    <tr>\n",
       "      <th>1</th>\n",
       "      <td>10 Best Foods for You</td>\n",
       "      <td>This help eating healthy exercise regular basis</td>\n",
       "      <td>Positive</td>\n",
       "      <td>0.25</td>\n",
       "      <td>0.288462</td>\n",
       "    </tr>\n",
       "    <tr>\n",
       "      <th>2</th>\n",
       "      <td>10 Best Foods for You</td>\n",
       "      <td>NaN</td>\n",
       "      <td>NaN</td>\n",
       "      <td>NaN</td>\n",
       "      <td>NaN</td>\n",
       "    </tr>\n",
       "    <tr>\n",
       "      <th>3</th>\n",
       "      <td>10 Best Foods for You</td>\n",
       "      <td>Works great especially going grocery store</td>\n",
       "      <td>Positive</td>\n",
       "      <td>0.40</td>\n",
       "      <td>0.875000</td>\n",
       "    </tr>\n",
       "    <tr>\n",
       "      <th>4</th>\n",
       "      <td>10 Best Foods for You</td>\n",
       "      <td>Best idea us</td>\n",
       "      <td>Positive</td>\n",
       "      <td>1.00</td>\n",
       "      <td>0.300000</td>\n",
       "    </tr>\n",
       "  </tbody>\n",
       "</table>\n",
       "</div>"
      ],
      "text/plain": [
       "                     App                                  Translated_Review  \\\n",
       "0  10 Best Foods for You  I like eat delicious food. That's I'm cooking ...   \n",
       "1  10 Best Foods for You    This help eating healthy exercise regular basis   \n",
       "2  10 Best Foods for You                                                NaN   \n",
       "3  10 Best Foods for You         Works great especially going grocery store   \n",
       "4  10 Best Foods for You                                       Best idea us   \n",
       "\n",
       "  Sentiment  Sentiment_Polarity  Sentiment_Subjectivity  \n",
       "0  Positive                1.00                0.533333  \n",
       "1  Positive                0.25                0.288462  \n",
       "2       NaN                 NaN                     NaN  \n",
       "3  Positive                0.40                0.875000  \n",
       "4  Positive                1.00                0.300000  "
      ]
     },
     "execution_count": 4,
     "metadata": {},
     "output_type": "execute_result"
    }
   ],
   "source": [
    "df_review.head(5)"
   ]
  },
  {
   "cell_type": "markdown",
   "metadata": {},
   "source": [
    "### Variable descritions df: \n",
    "<table>\n",
    "   \n",
    "   <colgroup>\n",
    "        <col width=\"100\">\n",
    "        <col width=\"200\">\n",
    "   </colgroup>\n",
    "\t\n",
    "    <tr>\n",
    "\t\t<th>Variable</th>\n",
    "\t\t<th>Description</th>\n",
    "\t</tr>\n",
    "    \n",
    "\t<tr>\n",
    "\t\t<td>App</td>\n",
    "\t\t<td>Application name</td>\n",
    "        \n",
    "\t</tr>\n",
    "    \t</tr>\n",
    "\t<tr>\n",
    "\t\t<td>Category</td>\n",
    "\t\t<td>Category the app belongs to</td>\n",
    "\t</tr>\n",
    "    \n",
    "            \n",
    "\t</tr>\n",
    "    \t</tr>\n",
    "\t<tr>\n",
    "\t\t<td>Rating</td>\n",
    "\t\t<td>Overall user rating of the app (as when scraped)</td>\n",
    "\t</tr>\n",
    "        \n",
    "        \n",
    "\t<tr>\n",
    "\t\t<td>Reviews</td>\n",
    "\t\t<td>Number of user reviews for the app (as when scraped)</td>\n",
    "\t</tr>\n",
    "        \n",
    "            \n",
    "\n",
    "\t<tr>\n",
    "\t\t<td>Size</td>\n",
    "\t\t<td>Size of the app (as when scraped)</td>\n",
    "\t</tr>\n",
    "        \n",
    "            \n",
    "\t<tr>\n",
    "\t\t<td>Installs</td>\n",
    "\t\t<td>Number of user downloads/installs for the app (as when scraped)</td>\n",
    "\t</tr>\n",
    "            \n",
    "            \n",
    "\t<tr>\n",
    "\t\t<td>Type</td>\n",
    "\t\t<td>Paid or Free</td>\n",
    "\t</tr>\n",
    "            \n",
    "         \n",
    "\t<tr>\n",
    "\t\t<td>Price</td>\n",
    "\t\t<td>Price of the app (as when scraped)</td>\n",
    "\t</tr>\n",
    "            \n",
    "\n",
    "\t<tr>\n",
    "\t\t<td>Content Rating</td>\n",
    "\t\t<td>Age group the app is targeted at - Children / Mature 21+ / Adult</td>\n",
    "\t</tr>\n",
    "                \n",
    "\t<tr>\n",
    "\t\t<td>GenresAn</td>\n",
    "\t\t<td> app can belong to multiple genres (apart from its main category). For eg, a musical family game will belong to Music, Game, Family genres.</td> \n",
    "\t</tr>\n",
    "\n",
    "\t<tr>\n",
    "\t\t<td>Last Updated</td>\n",
    "\t\t<td>Date when the app was last updated on Play Store (as when scraped)</td>\n",
    "\t</tr>\n",
    "                \n",
    "\n",
    "\t<tr>\n",
    "\t\t<td>Current Ver</td>\n",
    "\t\t<td>Current version of the app available on Play Store (as when scraped)</td>\n",
    "\t</tr>\n",
    "    \n",
    "    <tr>\n",
    "\t\t<td>Android Ver</td>\n",
    "\t\t<td>Min required Android version (as when scraped)</td>\n",
    "\t</tr>\n",
    "    \n",
    "</table>\n",
    "\n",
    "\n",
    "\n",
    "\n",
    "### Variable descritions df_review:\n",
    "\n",
    "<table>\n",
    "   \n",
    "   <colgroup>\n",
    "        <col width=\"100\">\n",
    "        <col width=\"200\">\n",
    "   </colgroup>\n",
    "\t\n",
    "    <tr>\n",
    "\t\t<th>Variable</th>\n",
    "\t\t<th>Description</th>\n",
    "\t</tr>\n",
    "    \n",
    "\t<tr>\n",
    "\t\t<td>Translated_Review</td>\n",
    "\t\t<td>User review (Preprocessed and translated to English)</td>\n",
    "        \n",
    "\t</tr>\n",
    "    \t</tr>\n",
    "\t<tr>\n",
    "\t\t<td>Sentiment</td>\n",
    "\t\t<td>Positive/Negative/Neutral (Preprocessed)</td>\n",
    "\t</tr>\n",
    "    \n",
    "    <tr>\n",
    "\t\t<td>Sentiment_Polarity</td>\n",
    "\t\t<td>Sentiment polarity score</td>\n",
    "\t</tr>\n",
    "    \n",
    "    <tr>\n",
    "\t\t<td>Sentiment_Subjectivity</td>\n",
    "\t\t<td>Sentiment subjectivity score</td>\n",
    "\t</tr>\n",
    "\n",
    "</table>\n",
    "\n",
    "\n",
    "\n",
    "\n",
    "\n",
    "<style>\n",
    "table { text-align: left }\n",
    "</style>"
   ]
  },
  {
   "cell_type": "markdown",
   "metadata": {},
   "source": [
    "# <span id=\"assess\">Assessing Data Set</span>"
   ]
  },
  {
   "cell_type": "markdown",
   "metadata": {},
   "source": [
    "## Programmatic Assessment"
   ]
  },
  {
   "cell_type": "code",
   "execution_count": 5,
   "metadata": {},
   "outputs": [
    {
     "name": "stdout",
     "output_type": "stream",
     "text": [
      "df data set has  10841 rows and  13 columns\n"
     ]
    }
   ],
   "source": [
    "print('df data set has ', df.shape[0], 'rows and ', df.shape[1], 'columns')"
   ]
  },
  {
   "cell_type": "code",
   "execution_count": 6,
   "metadata": {},
   "outputs": [
    {
     "name": "stdout",
     "output_type": "stream",
     "text": [
      "df_review data set has  64295 rows and  5 columns\n"
     ]
    }
   ],
   "source": [
    "print('df_review data set has ', df_review.shape[0], 'rows and ', df_review.shape[1], 'columns')"
   ]
  },
  {
   "cell_type": "code",
   "execution_count": 7,
   "metadata": {},
   "outputs": [
    {
     "name": "stdout",
     "output_type": "stream",
     "text": [
      "App <class 'str'>\n",
      "Category <class 'str'>\n",
      "Rating <class 'numpy.float64'>\n",
      "Reviews <class 'str'>\n",
      "Size <class 'str'>\n",
      "Installs <class 'str'>\n",
      "Type <class 'str'>\n",
      "Price <class 'str'>\n",
      "Content Rating <class 'str'>\n",
      "Genres <class 'str'>\n",
      "Last Updated <class 'str'>\n",
      "Current Ver <class 'str'>\n",
      "Android Ver <class 'str'>\n"
     ]
    }
   ],
   "source": [
    "#get class for columns\n",
    "def get_class(dataframe):\n",
    "    for col in list(dataframe):\n",
    "        print(col, type(dataframe[col][0]))\n",
    "\n",
    "get_class(df)"
   ]
  },
  {
   "cell_type": "code",
   "execution_count": 8,
   "metadata": {},
   "outputs": [
    {
     "name": "stdout",
     "output_type": "stream",
     "text": [
      "App <class 'str'>\n",
      "Translated_Review <class 'str'>\n",
      "Sentiment <class 'str'>\n",
      "Sentiment_Polarity <class 'numpy.float64'>\n",
      "Sentiment_Subjectivity <class 'numpy.float64'>\n"
     ]
    }
   ],
   "source": [
    "#get class for df_review data set\n",
    "#type(df_review['Translated_Review'][0])\n",
    "get_class(df_review)"
   ]
  },
  {
   "cell_type": "code",
   "execution_count": 9,
   "metadata": {},
   "outputs": [
    {
     "data": {
      "text/plain": [
       "Varies with device         1459\n",
       "1.0                         809\n",
       "1.1                         264\n",
       "1.2                         178\n",
       "2.0                         151\n",
       "1.3                         145\n",
       "1.0.0                       136\n",
       "1.0.1                       119\n",
       "1.4                          88\n",
       "1.5                          81\n",
       "1.0.2                        80\n",
       "1.6                          65\n",
       "1.0.3                        62\n",
       "2.1                          61\n",
       "3.0                          59\n",
       "1.0.4                        58\n",
       "1.7                          53\n",
       "2.0.0                        51\n",
       "1.0.5                        50\n",
       "1.1.0                        49\n",
       "1.1.1                        48\n",
       "1.0.6                        47\n",
       "1.2.1                        46\n",
       "1.2.0                        43\n",
       "1.8                          42\n",
       "4.0                          40\n",
       "1.9                          37\n",
       "2.3.2                        35\n",
       "1.0.7                        34\n",
       "2.4                          34\n",
       "                           ... \n",
       "3.39.0                        1\n",
       "7.17.2.1                      1\n",
       "5.0.1.11068-production        1\n",
       "6.10.0                        1\n",
       "1.250.078                     1\n",
       "4.4.14.4487                   1\n",
       "0.0.6                         1\n",
       "68.0.3440.70                  1\n",
       "0.35                          1\n",
       "6.11                          1\n",
       "4.2.1.4174                    1\n",
       "7.21                          1\n",
       "MyMetro_HTML_2.0_430029       1\n",
       "0.3.4                         1\n",
       "2.4.3.1523                    1\n",
       "5.0.45                        1\n",
       "3.6.17                        1\n",
       "3.4.7.2.16                    1\n",
       "7.5.3                         1\n",
       "1.2.2.0                       1\n",
       "2.13.2                        1\n",
       "2.15.180                      1\n",
       "5.68.1                        1\n",
       "2.4.1343-prod                 1\n",
       "F2i                           1\n",
       "2.13.11                       1\n",
       "1.5.062                       1\n",
       "3.0.5.0                       1\n",
       "2018-03                       1\n",
       "2.180723                      1\n",
       "Name: Current Ver, Length: 2832, dtype: int64"
      ]
     },
     "execution_count": 9,
     "metadata": {},
     "output_type": "execute_result"
    }
   ],
   "source": [
    "#function value counts\n",
    "def get_vc(dataframe, col):\n",
    "    return df[col].value_counts()\n",
    "    \n",
    "get_vc(df, 'Current Ver')"
   ]
  },
  {
   "cell_type": "code",
   "execution_count": 10,
   "metadata": {},
   "outputs": [
    {
     "data": {
      "text/plain": [
       "4.1 and up            2451\n",
       "4.0.3 and up          1501\n",
       "4.0 and up            1375\n",
       "Varies with device    1362\n",
       "4.4 and up             980\n",
       "2.3 and up             652\n",
       "5.0 and up             601\n",
       "4.2 and up             394\n",
       "2.3.3 and up           281\n",
       "2.2 and up             244\n",
       "4.3 and up             243\n",
       "3.0 and up             241\n",
       "2.1 and up             134\n",
       "1.6 and up             116\n",
       "6.0 and up              60\n",
       "7.0 and up              42\n",
       "3.2 and up              36\n",
       "2.0 and up              32\n",
       "5.1 and up              24\n",
       "1.5 and up              20\n",
       "4.4W and up             12\n",
       "3.1 and up              10\n",
       "2.0.1 and up             7\n",
       "8.0 and up               6\n",
       "7.1 and up               3\n",
       "5.0 - 8.0                2\n",
       "1.0 and up               2\n",
       "4.0.3 - 7.1.1            2\n",
       "4.1 - 7.1.1              1\n",
       "2.2 - 7.1.1              1\n",
       "5.0 - 6.0                1\n",
       "7.0 - 7.1.1              1\n",
       "5.0 - 7.1.1              1\n",
       "Name: Android Ver, dtype: int64"
      ]
     },
     "execution_count": 10,
     "metadata": {},
     "output_type": "execute_result"
    }
   ],
   "source": [
    "get_vc(df, 'Android Ver')"
   ]
  },
  {
   "cell_type": "code",
   "execution_count": 11,
   "metadata": {
    "scrolled": true
   },
   "outputs": [
    {
     "name": "stdout",
     "output_type": "stream",
     "text": [
      "df has 483 duplicated values, while df_review has  33616 duplicated values\n"
     ]
    }
   ],
   "source": [
    "#Checking for duplicates\n",
    "print('df has', sum(df.duplicated()), 'duplicated values, while df_review has ', sum(df_review.duplicated()), 'duplicated values')"
   ]
  },
  {
   "cell_type": "code",
   "execution_count": 12,
   "metadata": {},
   "outputs": [
    {
     "data": {
      "text/html": [
       "<div>\n",
       "<style scoped>\n",
       "    .dataframe tbody tr th:only-of-type {\n",
       "        vertical-align: middle;\n",
       "    }\n",
       "\n",
       "    .dataframe tbody tr th {\n",
       "        vertical-align: top;\n",
       "    }\n",
       "\n",
       "    .dataframe thead th {\n",
       "        text-align: right;\n",
       "    }\n",
       "</style>\n",
       "<table border=\"1\" class=\"dataframe\">\n",
       "  <thead>\n",
       "    <tr style=\"text-align: right;\">\n",
       "      <th></th>\n",
       "      <th>App</th>\n",
       "      <th>Translated_Review</th>\n",
       "      <th>Sentiment</th>\n",
       "      <th>Sentiment_Polarity</th>\n",
       "      <th>Sentiment_Subjectivity</th>\n",
       "    </tr>\n",
       "  </thead>\n",
       "  <tbody>\n",
       "    <tr>\n",
       "      <th>7</th>\n",
       "      <td>10 Best Foods for You</td>\n",
       "      <td>NaN</td>\n",
       "      <td>NaN</td>\n",
       "      <td>NaN</td>\n",
       "      <td>NaN</td>\n",
       "    </tr>\n",
       "    <tr>\n",
       "      <th>15</th>\n",
       "      <td>10 Best Foods for You</td>\n",
       "      <td>NaN</td>\n",
       "      <td>NaN</td>\n",
       "      <td>NaN</td>\n",
       "      <td>NaN</td>\n",
       "    </tr>\n",
       "    <tr>\n",
       "      <th>78</th>\n",
       "      <td>10 Best Foods for You</td>\n",
       "      <td>Good</td>\n",
       "      <td>Positive</td>\n",
       "      <td>0.7</td>\n",
       "      <td>0.600000</td>\n",
       "    </tr>\n",
       "    <tr>\n",
       "      <th>79</th>\n",
       "      <td>10 Best Foods for You</td>\n",
       "      <td>Good</td>\n",
       "      <td>Positive</td>\n",
       "      <td>0.7</td>\n",
       "      <td>0.600000</td>\n",
       "    </tr>\n",
       "    <tr>\n",
       "      <th>100</th>\n",
       "      <td>10 Best Foods for You</td>\n",
       "      <td>I like eat delicious food. That's I'm cooking ...</td>\n",
       "      <td>Positive</td>\n",
       "      <td>1.0</td>\n",
       "      <td>0.533333</td>\n",
       "    </tr>\n",
       "  </tbody>\n",
       "</table>\n",
       "</div>"
      ],
      "text/plain": [
       "                       App                                  Translated_Review  \\\n",
       "7    10 Best Foods for You                                                NaN   \n",
       "15   10 Best Foods for You                                                NaN   \n",
       "78   10 Best Foods for You                                               Good   \n",
       "79   10 Best Foods for You                                               Good   \n",
       "100  10 Best Foods for You  I like eat delicious food. That's I'm cooking ...   \n",
       "\n",
       "    Sentiment  Sentiment_Polarity  Sentiment_Subjectivity  \n",
       "7         NaN                 NaN                     NaN  \n",
       "15        NaN                 NaN                     NaN  \n",
       "78   Positive                 0.7                0.600000  \n",
       "79   Positive                 0.7                0.600000  \n",
       "100  Positive                 1.0                0.533333  "
      ]
     },
     "execution_count": 12,
     "metadata": {},
     "output_type": "execute_result"
    }
   ],
   "source": [
    "#checking out some duplicates\n",
    "df_review[df_review.duplicated()][:5]"
   ]
  },
  {
   "cell_type": "markdown",
   "metadata": {},
   "source": [
    "## Assessment\n",
    "\n",
    "### Visual Assessment \n",
    "**Quality issues df:** \n",
    "\n",
    "- Size has \"M\" at the end\n",
    "- Installs has \",\" between thousends and \"+\" at the end\n",
    "- Genres contains multiple values\n",
    "- Last Updated has text and numbers\n",
    "- Android version has \"and up\" in text\n",
    "\n",
    "**Quality issues df_review:** \n",
    "- No quality issues detected on visual assessment\n",
    "\n",
    "### Programmatic Assessment\n",
    "\n",
    "**Quality issues df:** \n",
    "\n",
    "- Rating, Reviews, Size, Installs, Price should be int / float\n",
    "- Last Updated should be datetime format\n",
    "- Check if string format in Current Ver and Android Ver is right\n",
    "- Current Ver, Last updated, Android ver, Content Rating should be renamed to name_2ndname\n",
    "- Current Ver should be categorical \n",
    "- Android Ver should be categorical\n",
    "- Text values should be replaced with n/a in Current Ver\n",
    "- Column names should all be lowercase\n",
    "- df has 483 duplicated values\n",
    "\n",
    "**Quality issues df_review:** \n",
    "- Sentiment_Polarity and Sentiment_Subjectivity should be floats\n",
    "- Sentiment_Polarity and Sentiment_Subjectivity should be lowercase\n",
    "- df_review has 33616 duplicated values \n",
    "\n",
    "**Null values will be assessed and dicussed after dropping duplicates in the <a href=\"#clean\">Cleaning</a> part**"
   ]
  },
  {
   "cell_type": "markdown",
   "metadata": {},
   "source": [
    "# <span id=\"clean\">Cleaning Data Set</span>"
   ]
  },
  {
   "cell_type": "markdown",
   "metadata": {},
   "source": [
    "**Problems targeted:**\n",
    "- Current Ver, Last updated, Android ver, Content Rating should be renamed to name_2ndname\n",
    "- Column names should all be lowercase\n",
    "- Sentiment_Polarity and Sentiment_Subjectivity should be floats\n",
    "- Sentiment_Polarity and Sentiment_Subjectivity should be lowercase\n"
   ]
  },
  {
   "cell_type": "code",
   "execution_count": 13,
   "metadata": {},
   "outputs": [
    {
     "name": "stdout",
     "output_type": "stream",
     "text": [
      "Index(['app', 'category', 'rating', 'reviews', 'size', 'installs', 'type',\n",
      "       'price', 'content_rating', 'genres', 'last_updated', 'current_ver',\n",
      "       'android_ver'],\n",
      "      dtype='object') Index(['app', 'translated_review', 'sentiment', 'sentiment_polarity',\n",
      "       'sentiment_subjectivity'],\n",
      "      dtype='object')\n"
     ]
    }
   ],
   "source": [
    "# lets fix the column names first\n",
    "df.columns = df.columns.str.lower().str.replace(' ', '_')\n",
    "df_review.columns = df_review.columns.str.lower()\n",
    "\n",
    "#check outcome\n",
    "print(df.columns, df_review.columns)"
   ]
  },
  {
   "cell_type": "markdown",
   "metadata": {},
   "source": [
    "**Problems targeted:**\n",
    "\n",
    "- df has 483 duplicated values\n",
    "- df_review has 33616 duplicated values "
   ]
  },
  {
   "cell_type": "code",
   "execution_count": 14,
   "metadata": {},
   "outputs": [
    {
     "name": "stdout",
     "output_type": "stream",
     "text": [
      "df has 0 duplicated values, while df_review has 0 duplicated values\n"
     ]
    }
   ],
   "source": [
    "#Get rid of duplicates\n",
    "df = df.drop_duplicates()\n",
    "df_review = df_review.drop_duplicates()\n",
    "\n",
    "#check it\n",
    "#Checking for duplicates\n",
    "print('df has', sum(df.duplicated()), 'duplicated values, while df_review has', sum(df_review.duplicated()), 'duplicated values')"
   ]
  },
  {
   "cell_type": "code",
   "execution_count": 15,
   "metadata": {},
   "outputs": [
    {
     "name": "stdout",
     "output_type": "stream",
     "text": [
      "app has 0 null values\n",
      "category has 0 null values\n",
      "rating has 1465 null values\n",
      "reviews has 0 null values\n",
      "size has 0 null values\n",
      "installs has 0 null values\n",
      "type has 1 null values\n",
      "price has 0 null values\n",
      "content_rating has 1 null values\n",
      "genres has 0 null values\n",
      "last_updated has 0 null values\n",
      "current_ver has 8 null values\n",
      "android_ver has 3 null values\n",
      "app has 0 null values\n",
      "translated_review has 987 null values\n",
      "sentiment has 982 null values\n",
      "sentiment_polarity has 982 null values\n",
      "sentiment_subjectivity has 982 null values\n"
     ]
    },
    {
     "data": {
      "text/plain": [
       "(None, None)"
      ]
     },
     "execution_count": 15,
     "metadata": {},
     "output_type": "execute_result"
    }
   ],
   "source": [
    "#getting null values\n",
    "def get_null(dataframe):\n",
    "    for col in dataframe:\n",
    "        print(col, 'has', sum(dataframe[col].isnull()), 'null values')\n",
    "        \n",
    "get_null(df), get_null(df_review)"
   ]
  },
  {
   "cell_type": "code",
   "execution_count": 16,
   "metadata": {},
   "outputs": [
    {
     "name": "stdout",
     "output_type": "stream",
     "text": [
      "app has 0 null values\n",
      "translated_review has 5 null values\n",
      "sentiment has 0 null values\n",
      "sentiment_polarity has 0 null values\n",
      "sentiment_subjectivity has 0 null values\n"
     ]
    }
   ],
   "source": [
    "#Dropping all rows with null values in sentiments variables\n",
    "df_review = df_review.dropna(subset=['sentiment', 'sentiment_polarity', 'sentiment_subjectivity'])\n",
    "\n",
    "#checking outcome\n",
    "get_null(df_review)"
   ]
  },
  {
   "cell_type": "markdown",
   "metadata": {},
   "source": [
    "**Problems targeted:**\n",
    "\n",
    "- Size has \"M\" at the end\n"
   ]
  },
  {
   "cell_type": "code",
   "execution_count": 17,
   "metadata": {},
   "outputs": [
    {
     "data": {
      "text/plain": [
       "Varies with device    1526\n",
       "11M                    188\n",
       "Name: size, dtype: int64"
      ]
     },
     "execution_count": 17,
     "metadata": {},
     "output_type": "execute_result"
    }
   ],
   "source": [
    "df['size'].value_counts()[:2]"
   ]
  },
  {
   "cell_type": "code",
   "execution_count": 18,
   "metadata": {},
   "outputs": [],
   "source": [
    "#replacing \"Varies with device\" into n/a\n",
    "df['size'] = df['size'].replace('Varies with device', np.NAN)"
   ]
  },
  {
   "cell_type": "code",
   "execution_count": 19,
   "metadata": {},
   "outputs": [],
   "source": [
    "#removing the 'M' from the cells\n",
    "df['size'] = df['size'].apply(lambda x: np.NAN if pd.isnull(x) else x.split('M')[0])\n"
   ]
  },
  {
   "cell_type": "markdown",
   "metadata": {},
   "source": [
    "**Problems targeted:**\n",
    "\n",
    "- Installs has \",\" between thousends and \"+\" at the end\n",
    "\n"
   ]
  },
  {
   "cell_type": "code",
   "execution_count": 20,
   "metadata": {},
   "outputs": [
    {
     "data": {
      "text/plain": [
       "1,000,000+        1488\n",
       "10,000,000+       1132\n",
       "100,000+          1129\n",
       "10,000+           1033\n",
       "1,000+             890\n",
       "100+               710\n",
       "5,000,000+         683\n",
       "500,000+           517\n",
       "50,000+            474\n",
       "5,000+             469\n",
       "10+                385\n",
       "100,000,000+       369\n",
       "500+               328\n",
       "50,000,000+        272\n",
       "50+                204\n",
       "5+                  82\n",
       "1+                  67\n",
       "500,000,000+        61\n",
       "1,000,000,000+      49\n",
       "0+                  14\n",
       "Free                 1\n",
       "0                    1\n",
       "Name: installs, dtype: int64"
      ]
     },
     "execution_count": 20,
     "metadata": {},
     "output_type": "execute_result"
    }
   ],
   "source": [
    "df.installs.value_counts()"
   ]
  },
  {
   "cell_type": "code",
   "execution_count": 21,
   "metadata": {},
   "outputs": [],
   "source": [
    "#remove apps with 0 installs\n",
    "df = df.drop(df[df['installs']==\"0\"].index)\n",
    "df = df.drop(df[df['installs']==\"0+\"].index)"
   ]
  },
  {
   "cell_type": "code",
   "execution_count": 22,
   "metadata": {},
   "outputs": [],
   "source": [
    "#The value_counts show that this can be remained, free must be transformed to n/a\n",
    "df['installs'] = df['installs'].apply(lambda x: np.NAN if x == \"Free\" else x)\n",
    "df['installs'] = df['installs'].astype('category')"
   ]
  },
  {
   "cell_type": "code",
   "execution_count": 23,
   "metadata": {},
   "outputs": [
    {
     "data": {
      "text/plain": [
       "1,000,000+        1488\n",
       "10,000,000+       1132\n",
       "100,000+          1129\n",
       "10,000+           1033\n",
       "1,000+             890\n",
       "100+               710\n",
       "5,000,000+         683\n",
       "500,000+           517\n",
       "50,000+            474\n",
       "5,000+             469\n",
       "10+                385\n",
       "100,000,000+       369\n",
       "500+               328\n",
       "50,000,000+        272\n",
       "50+                204\n",
       "5+                  82\n",
       "1+                  67\n",
       "500,000,000+        61\n",
       "1,000,000,000+      49\n",
       "Name: installs, dtype: int64"
      ]
     },
     "execution_count": 23,
     "metadata": {},
     "output_type": "execute_result"
    }
   ],
   "source": [
    "df.installs.value_counts()"
   ]
  },
  {
   "cell_type": "markdown",
   "metadata": {},
   "source": [
    "**Problems targeted:**\n",
    "- Genres contains multiple values\n",
    "\n"
   ]
  },
  {
   "cell_type": "code",
   "execution_count": 24,
   "metadata": {},
   "outputs": [
    {
     "data": {
      "text/plain": [
       "Creativity           37\n",
       "Word                 28\n",
       "Music                24\n",
       "Music & Audio         1\n",
       "February 11, 2018     1\n",
       "dtype: int64"
      ]
     },
     "execution_count": 24,
     "metadata": {},
     "output_type": "execute_result"
    }
   ],
   "source": [
    "df_genre = (df['genres'].str.split(';', expand=True).rename(columns=lambda x: f\"genres_{x+1}\"))\n",
    "df_genre.stack().value_counts()[-5:]"
   ]
  },
  {
   "cell_type": "code",
   "execution_count": 25,
   "metadata": {},
   "outputs": [],
   "source": [
    "#combining some similar categories\n",
    "df_genre['genres_1'] = df_genre['genres_1'].replace('Music & Audio', 'Music')\n",
    "df_genre['genres_2'] = df_genre['genres_2'].replace('Music & Audio', 'Music')\n",
    "df_genre['genres_1'] = df_genre['genres_1'].replace('February 11, 2018', np.NAN)\n",
    "df_genre['genres_1'] = df_genre['genres_1'].replace('Educational', 'Education')\n",
    "df_genre['genres_2'] = df_genre['genres_2'].replace('Educational', 'Education')"
   ]
  },
  {
   "cell_type": "code",
   "execution_count": 26,
   "metadata": {},
   "outputs": [
    {
     "data": {
      "text/plain": [
       "Card      51\n",
       "Casino    39\n",
       "Trivia    39\n",
       "Word      28\n",
       "Music     25\n",
       "Name: genres_1, dtype: int64"
      ]
     },
     "execution_count": 26,
     "metadata": {},
     "output_type": "execute_result"
    }
   ],
   "source": [
    "df_genre.genres_1.value_counts()[-5:]"
   ]
  },
  {
   "cell_type": "code",
   "execution_count": 27,
   "metadata": {},
   "outputs": [],
   "source": [
    "#combininng data sets\n",
    "df = df.join([df_genre])\n",
    "df = df.drop('genres', axis=1)"
   ]
  },
  {
   "cell_type": "markdown",
   "metadata": {},
   "source": [
    "**Problems targeted:**\n",
    "\n",
    "- Last Updated has text and numbers\n",
    "- Last Updated should be datetime format"
   ]
  },
  {
   "cell_type": "code",
   "execution_count": 28,
   "metadata": {},
   "outputs": [],
   "source": [
    "from datetime import datetime"
   ]
  },
  {
   "cell_type": "code",
   "execution_count": 29,
   "metadata": {},
   "outputs": [
    {
     "name": "stdout",
     "output_type": "stream",
     "text": [
      "not working time data '1.0.19' does not match format '%B %d, %Y'\n"
     ]
    }
   ],
   "source": [
    "#Try \n",
    "try:\n",
    "    df['last_updated'] = df['last_updated'].apply(lambda x: datetime.strptime(x, '%B %d, %Y'))\n",
    "except Exception as e:\n",
    "        print('not working', e)\n",
    "    \n",
    "#Dropping Life Made WI-Fi Touchscreen Phto Frame since many datapoints are missing\n",
    "df.drop(10472, inplace=True)\n",
    "\n",
    "try:\n",
    "    df['last_updated'] = df['last_updated'].apply(lambda x: datetime.strptime(x, '%B %d, %Y'))\n",
    "except Exception as e:\n",
    "        print('not working', e)"
   ]
  },
  {
   "cell_type": "code",
   "execution_count": 30,
   "metadata": {},
   "outputs": [
    {
     "data": {
      "text/html": [
       "<div>\n",
       "<style scoped>\n",
       "    .dataframe tbody tr th:only-of-type {\n",
       "        vertical-align: middle;\n",
       "    }\n",
       "\n",
       "    .dataframe tbody tr th {\n",
       "        vertical-align: top;\n",
       "    }\n",
       "\n",
       "    .dataframe thead th {\n",
       "        text-align: right;\n",
       "    }\n",
       "</style>\n",
       "<table border=\"1\" class=\"dataframe\">\n",
       "  <thead>\n",
       "    <tr style=\"text-align: right;\">\n",
       "      <th></th>\n",
       "      <th>app</th>\n",
       "      <th>category</th>\n",
       "      <th>rating</th>\n",
       "      <th>reviews</th>\n",
       "      <th>size</th>\n",
       "      <th>installs</th>\n",
       "      <th>type</th>\n",
       "      <th>price</th>\n",
       "      <th>content_rating</th>\n",
       "      <th>last_updated</th>\n",
       "      <th>current_ver</th>\n",
       "      <th>android_ver</th>\n",
       "      <th>genres_1</th>\n",
       "      <th>genres_2</th>\n",
       "    </tr>\n",
       "  </thead>\n",
       "  <tbody>\n",
       "    <tr>\n",
       "      <th>0</th>\n",
       "      <td>Photo Editor &amp; Candy Camera &amp; Grid &amp; ScrapBook</td>\n",
       "      <td>ART_AND_DESIGN</td>\n",
       "      <td>4.1</td>\n",
       "      <td>159</td>\n",
       "      <td>19</td>\n",
       "      <td>10,000+</td>\n",
       "      <td>Free</td>\n",
       "      <td>0</td>\n",
       "      <td>Everyone</td>\n",
       "      <td>2018-01-07</td>\n",
       "      <td>1.0.0</td>\n",
       "      <td>4.0.3 and up</td>\n",
       "      <td>Art &amp; Design</td>\n",
       "      <td>None</td>\n",
       "    </tr>\n",
       "    <tr>\n",
       "      <th>1</th>\n",
       "      <td>Coloring book moana</td>\n",
       "      <td>ART_AND_DESIGN</td>\n",
       "      <td>3.9</td>\n",
       "      <td>967</td>\n",
       "      <td>14</td>\n",
       "      <td>500,000+</td>\n",
       "      <td>Free</td>\n",
       "      <td>0</td>\n",
       "      <td>Everyone</td>\n",
       "      <td>2018-01-15</td>\n",
       "      <td>2.0.0</td>\n",
       "      <td>4.0.3 and up</td>\n",
       "      <td>Art &amp; Design</td>\n",
       "      <td>Pretend Play</td>\n",
       "    </tr>\n",
       "  </tbody>\n",
       "</table>\n",
       "</div>"
      ],
      "text/plain": [
       "                                              app        category  rating  \\\n",
       "0  Photo Editor & Candy Camera & Grid & ScrapBook  ART_AND_DESIGN     4.1   \n",
       "1                             Coloring book moana  ART_AND_DESIGN     3.9   \n",
       "\n",
       "  reviews size  installs  type price content_rating last_updated current_ver  \\\n",
       "0     159   19   10,000+  Free     0       Everyone   2018-01-07       1.0.0   \n",
       "1     967   14  500,000+  Free     0       Everyone   2018-01-15       2.0.0   \n",
       "\n",
       "    android_ver      genres_1      genres_2  \n",
       "0  4.0.3 and up  Art & Design          None  \n",
       "1  4.0.3 and up  Art & Design  Pretend Play  "
      ]
     },
     "execution_count": 30,
     "metadata": {},
     "output_type": "execute_result"
    }
   ],
   "source": [
    "df.head(2)"
   ]
  },
  {
   "cell_type": "markdown",
   "metadata": {},
   "source": [
    "**Problems targeted:**\n",
    "- Fix df_size formats\n",
    "\n"
   ]
  },
  {
   "cell_type": "code",
   "execution_count": 31,
   "metadata": {},
   "outputs": [],
   "source": [
    "#Resetting Index\n",
    "df = df.reset_index(drop=True)\n",
    "\n",
    "#checking if some 0 are contained in df\n",
    "df.query('size==\"0\"')\n",
    "\n",
    "#Replacing float np.NAN with string 0\n",
    "df['size'].replace(np.NAN, '0', inplace=True)\n",
    "\n",
    "#removing the \"k\" at the end of a number\n",
    "df['size'] = df['size'].apply(lambda x: x.split('k')[0] if x[-1]=='k' else x)\n",
    "\n",
    "#transform the 0 again \n",
    "df['size'].replace('0', np.NAN, inplace=True)\n",
    "\n"
   ]
  },
  {
   "cell_type": "markdown",
   "metadata": {},
   "source": [
    "**Problems targeted:**\n",
    "- Fix df_size formats"
   ]
  },
  {
   "cell_type": "code",
   "execution_count": 32,
   "metadata": {},
   "outputs": [],
   "source": [
    "df['price'] = df['price'].apply(lambda x: x.split('$')[1] if x[0]=='$' else x)"
   ]
  },
  {
   "cell_type": "markdown",
   "metadata": {},
   "source": [
    "**Problems targeted:**\n",
    "- Rating, Reviews, Size, Installs, Price should be int / float\n",
    "- Sentiment_Polarity and Sentiment_Subjectivity should be floats\n"
   ]
  },
  {
   "cell_type": "code",
   "execution_count": 33,
   "metadata": {},
   "outputs": [],
   "source": [
    "#fixing dtype in df DataFrame\n",
    "df['rating'] = df['rating'].astype(float)\n",
    "df['reviews'] = df['reviews'].astype(int)\n",
    "df['size'] = df['size'].astype(float)\n",
    "df['price'] = df['price'].astype(float)\n",
    "df['genres_2'] = df['genres_2'].astype(str)\n",
    "\n",
    "#fixing dtype in df_review DataFrame\n",
    "df_review['sentiment_polarity'] = df_review['sentiment_polarity'].astype(float)\n",
    "df_review['sentiment_subjectivity'] = df_review['sentiment_subjectivity'].astype(float)"
   ]
  },
  {
   "cell_type": "markdown",
   "metadata": {},
   "source": [
    "**Problems targeted:**\n",
    "- Android version has \"and up\" in text\n",
    "- Check if string format in Current Ver and Android Ver is right"
   ]
  },
  {
   "cell_type": "code",
   "execution_count": 34,
   "metadata": {},
   "outputs": [],
   "source": [
    "df['android_ver'] = df['android_ver'].astype('category')\n",
    "\n",
    "#seems ok"
   ]
  },
  {
   "cell_type": "code",
   "execution_count": 35,
   "metadata": {
    "scrolled": true
   },
   "outputs": [
    {
     "name": "stdout",
     "output_type": "stream",
     "text": [
      "app <class 'str'>\n",
      "category <class 'str'>\n",
      "rating <class 'numpy.float64'>\n",
      "reviews <class 'numpy.int64'>\n",
      "size <class 'numpy.float64'>\n",
      "installs <class 'str'>\n",
      "type <class 'str'>\n",
      "price <class 'numpy.float64'>\n",
      "content_rating <class 'str'>\n",
      "last_updated <class 'pandas._libs.tslibs.timestamps.Timestamp'>\n",
      "current_ver <class 'str'>\n",
      "android_ver <class 'str'>\n",
      "genres_1 <class 'str'>\n",
      "genres_2 <class 'str'>\n",
      "app <class 'str'>\n",
      "translated_review <class 'str'>\n",
      "sentiment <class 'str'>\n",
      "sentiment_polarity <class 'numpy.float64'>\n",
      "sentiment_subjectivity <class 'numpy.float64'>\n"
     ]
    },
    {
     "data": {
      "text/plain": [
       "(None, None)"
      ]
     },
     "execution_count": 35,
     "metadata": {},
     "output_type": "execute_result"
    }
   ],
   "source": [
    "get_class(df), get_class(df_review)"
   ]
  },
  {
   "cell_type": "markdown",
   "metadata": {},
   "source": [
    "### The following issues occured during the Data Analysis"
   ]
  },
  {
   "cell_type": "markdown",
   "metadata": {},
   "source": [
    "**Problem targeted:**\n",
    "\n",
    "- Delete duplicated apps and keep those with most reviews (most current one probably)"
   ]
  },
  {
   "cell_type": "code",
   "execution_count": 36,
   "metadata": {},
   "outputs": [],
   "source": [
    "#rows to remove\n",
    "rows_to_remove = []\n",
    "\n",
    "#takes all rows with more than 1 app in value count, sorts it by reviews (largest review number is kept)\n",
    "#and adds their index to rows_to_remove\n",
    "for ind in df['app'].value_counts()[:523].index:\n",
    "    rows_to_remove.append(df[df['app']==ind].sort_values(by='reviews').index[:-1].tolist())\n",
    "\n",
    "#https://stackoverflow.com/questions/952914/making-a-flat-list-out-of-list-of-lists-in-python\n",
    "#makes a single list out of list of lists\n",
    "flat_list = []\n",
    "for sublist in rows_to_remove:\n",
    "    for item in sublist:\n",
    "        flat_list.append(item)"
   ]
  },
  {
   "cell_type": "code",
   "execution_count": 37,
   "metadata": {},
   "outputs": [],
   "source": [
    "#https://stackoverflow.com/questions/14661701/how-to-drop-a-list-of-rows-from-pandas-dataframe\n",
    "#keeps the desired rows and drops the unwanted rows\n",
    "indexes_to_keep = set(range(df.shape[0])) - set(flat_list)\n",
    "df = df.take(list(indexes_to_keep))\n"
   ]
  },
  {
   "cell_type": "code",
   "execution_count": 38,
   "metadata": {},
   "outputs": [],
   "source": [
    "df.to_csv('df_clean.csv')\n",
    "df_review.to_csv('df_review_clean.csv')"
   ]
  },
  {
   "cell_type": "markdown",
   "metadata": {},
   "source": [
    "# <span id=\"analyze\">Analyze Data Set</span>"
   ]
  },
  {
   "cell_type": "markdown",
   "metadata": {},
   "source": [
    "## EDA"
   ]
  },
  {
   "cell_type": "markdown",
   "metadata": {},
   "source": [
    "### Univariate Plots"
   ]
  },
  {
   "cell_type": "code",
   "execution_count": 39,
   "metadata": {},
   "outputs": [
    {
     "data": {
      "text/html": [
       "<div>\n",
       "<style scoped>\n",
       "    .dataframe tbody tr th:only-of-type {\n",
       "        vertical-align: middle;\n",
       "    }\n",
       "\n",
       "    .dataframe tbody tr th {\n",
       "        vertical-align: top;\n",
       "    }\n",
       "\n",
       "    .dataframe thead th {\n",
       "        text-align: right;\n",
       "    }\n",
       "</style>\n",
       "<table border=\"1\" class=\"dataframe\">\n",
       "  <thead>\n",
       "    <tr style=\"text-align: right;\">\n",
       "      <th></th>\n",
       "      <th>rating</th>\n",
       "      <th>reviews</th>\n",
       "      <th>size</th>\n",
       "      <th>price</th>\n",
       "    </tr>\n",
       "  </thead>\n",
       "  <tbody>\n",
       "    <tr>\n",
       "      <th>count</th>\n",
       "      <td>8196.000000</td>\n",
       "      <td>9.644000e+03</td>\n",
       "      <td>8417.000000</td>\n",
       "      <td>9644.000000</td>\n",
       "    </tr>\n",
       "    <tr>\n",
       "      <th>mean</th>\n",
       "      <td>4.173267</td>\n",
       "      <td>2.171413e+05</td>\n",
       "      <td>37.178959</td>\n",
       "      <td>0.973946</td>\n",
       "    </tr>\n",
       "    <tr>\n",
       "      <th>std</th>\n",
       "      <td>0.536253</td>\n",
       "      <td>1.832834e+06</td>\n",
       "      <td>102.498608</td>\n",
       "      <td>15.657039</td>\n",
       "    </tr>\n",
       "    <tr>\n",
       "      <th>min</th>\n",
       "      <td>1.000000</td>\n",
       "      <td>0.000000e+00</td>\n",
       "      <td>1.000000</td>\n",
       "      <td>0.000000</td>\n",
       "    </tr>\n",
       "    <tr>\n",
       "      <th>25%</th>\n",
       "      <td>4.000000</td>\n",
       "      <td>2.500000e+01</td>\n",
       "      <td>5.300000</td>\n",
       "      <td>0.000000</td>\n",
       "    </tr>\n",
       "    <tr>\n",
       "      <th>50%</th>\n",
       "      <td>4.300000</td>\n",
       "      <td>9.790000e+02</td>\n",
       "      <td>14.000000</td>\n",
       "      <td>0.000000</td>\n",
       "    </tr>\n",
       "    <tr>\n",
       "      <th>75%</th>\n",
       "      <td>4.500000</td>\n",
       "      <td>2.951375e+04</td>\n",
       "      <td>32.000000</td>\n",
       "      <td>0.000000</td>\n",
       "    </tr>\n",
       "    <tr>\n",
       "      <th>max</th>\n",
       "      <td>5.000000</td>\n",
       "      <td>7.815831e+07</td>\n",
       "      <td>1020.000000</td>\n",
       "      <td>400.000000</td>\n",
       "    </tr>\n",
       "  </tbody>\n",
       "</table>\n",
       "</div>"
      ],
      "text/plain": [
       "            rating       reviews         size        price\n",
       "count  8196.000000  9.644000e+03  8417.000000  9644.000000\n",
       "mean      4.173267  2.171413e+05    37.178959     0.973946\n",
       "std       0.536253  1.832834e+06   102.498608    15.657039\n",
       "min       1.000000  0.000000e+00     1.000000     0.000000\n",
       "25%       4.000000  2.500000e+01     5.300000     0.000000\n",
       "50%       4.300000  9.790000e+02    14.000000     0.000000\n",
       "75%       4.500000  2.951375e+04    32.000000     0.000000\n",
       "max       5.000000  7.815831e+07  1020.000000   400.000000"
      ]
     },
     "execution_count": 39,
     "metadata": {},
     "output_type": "execute_result"
    }
   ],
   "source": [
    "#Analyze numeric variables in df\n",
    "df.describe()"
   ]
  },
  {
   "cell_type": "code",
   "execution_count": 40,
   "metadata": {},
   "outputs": [
    {
     "data": {
      "image/png": "[encoded data removed]",
      "text/plain": [
       "<Figure size 720x720 with 4 Axes>"
      ]
     },
     "metadata": {},
     "output_type": "display_data"
    }
   ],
   "source": [
    "#Analyze numeric variables in df\n",
    "#df.hist(figsize=(10,10));\n",
    "\n",
    "fig, axes = plt.subplots(nrows=2, ncols=2,figsize=(10,10)) # create 2x2 array of subplots\n",
    "\n",
    "df.hist(column='price', ax=axes[0,0]) # add boxplot to 1st subplot\n",
    "df.hist(column='rating', ax=axes[0,1])\n",
    "df.hist(column='size', ax=axes[1,0])\n",
    "df.hist(column='reviews', ax=axes[1,1], bins= 10)\n",
    "\n",
    "plt.show()\n",
    "\n"
   ]
  },
  {
   "cell_type": "code",
   "execution_count": 41,
   "metadata": {
    "scrolled": true
   },
   "outputs": [
    {
     "data": {
      "image/png": "[encoded data removed]",
      "text/plain": [
       "<Figure size 720x720 with 4 Axes>"
      ]
     },
     "metadata": {},
     "output_type": "display_data"
    }
   ],
   "source": [
    "#Having the boxplot view\n",
    "fig, axes = plt.subplots(nrows=2, ncols=2,figsize=(10,10)) # create 2x2 array of subplots\n",
    "\n",
    "df.boxplot(column='price', ax=axes[0,0]) # add boxplot to 1st subplot\n",
    "df.boxplot(column='rating', ax=axes[0,1])\n",
    "df.boxplot(column='size', ax=axes[1,0])\n",
    "df.boxplot(column='reviews', ax=axes[1,1])\n",
    "plt.show()"
   ]
  },
  {
   "cell_type": "markdown",
   "metadata": {},
   "source": [
    "**Thoughts:**\n",
    "\n",
    "- The size variable seems very widely distributed, both the histogramm and the boxplot are indicating this fact. It is also underlined by the large standard deviatio of 102.420382.\n",
    "\n",
    "- Reviews are also widely distributed, while there are apps with 0 reviews, there are others with almost 80 million reviews. While 50% of the data has lower or equal to 969 reviews, 7% of the data has lower or equal to 29'453 reviews.  The data has a huge standard deviation of 1'831'430.\n",
    "\n",
    "- Price shows a very interesting distribution. The 75% quantile is still at 0, which means 3/4 of the apps are for free. Only a minority of the apps cost money. The maximum price for an app is 400 USD.\n",
    "\n",
    "- Rating variable has by far the lowest standard deviation of 0.536253, because its range is prefixed. Interestingly, the minimum AVERAGE rating received was 1 and the max AVERGAE received in average was 5. So there must be some really good and some really bad apps. The 25% quantile is 4.0, indicating that most apps (75%) score a higher rating than 4, which is very surprising.\n",
    "\n",
    "\n",
    "**The dataset shows a huge variance and may be needed to be adjusted in the modelling section of this analysis**\n"
   ]
  },
  {
   "cell_type": "code",
   "execution_count": 42,
   "metadata": {},
   "outputs": [
    {
     "data": {
      "text/html": [
       "<div>\n",
       "<style scoped>\n",
       "    .dataframe tbody tr th:only-of-type {\n",
       "        vertical-align: middle;\n",
       "    }\n",
       "\n",
       "    .dataframe tbody tr th {\n",
       "        vertical-align: top;\n",
       "    }\n",
       "\n",
       "    .dataframe thead th {\n",
       "        text-align: right;\n",
       "    }\n",
       "</style>\n",
       "<table border=\"1\" class=\"dataframe\">\n",
       "  <thead>\n",
       "    <tr style=\"text-align: right;\">\n",
       "      <th></th>\n",
       "      <th>sentiment_polarity</th>\n",
       "      <th>sentiment_subjectivity</th>\n",
       "    </tr>\n",
       "  </thead>\n",
       "  <tbody>\n",
       "    <tr>\n",
       "      <th>count</th>\n",
       "      <td>29697.000000</td>\n",
       "      <td>29697.000000</td>\n",
       "    </tr>\n",
       "    <tr>\n",
       "      <th>mean</th>\n",
       "      <td>0.188836</td>\n",
       "      <td>0.490848</td>\n",
       "    </tr>\n",
       "    <tr>\n",
       "      <th>std</th>\n",
       "      <td>0.355672</td>\n",
       "      <td>0.266029</td>\n",
       "    </tr>\n",
       "    <tr>\n",
       "      <th>min</th>\n",
       "      <td>-1.000000</td>\n",
       "      <td>0.000000</td>\n",
       "    </tr>\n",
       "    <tr>\n",
       "      <th>25%</th>\n",
       "      <td>0.000000</td>\n",
       "      <td>0.350000</td>\n",
       "    </tr>\n",
       "    <tr>\n",
       "      <th>50%</th>\n",
       "      <td>0.157143</td>\n",
       "      <td>0.514286</td>\n",
       "    </tr>\n",
       "    <tr>\n",
       "      <th>75%</th>\n",
       "      <td>0.422500</td>\n",
       "      <td>0.652500</td>\n",
       "    </tr>\n",
       "    <tr>\n",
       "      <th>max</th>\n",
       "      <td>1.000000</td>\n",
       "      <td>1.000000</td>\n",
       "    </tr>\n",
       "  </tbody>\n",
       "</table>\n",
       "</div>"
      ],
      "text/plain": [
       "       sentiment_polarity  sentiment_subjectivity\n",
       "count        29697.000000            29697.000000\n",
       "mean             0.188836                0.490848\n",
       "std              0.355672                0.266029\n",
       "min             -1.000000                0.000000\n",
       "25%              0.000000                0.350000\n",
       "50%              0.157143                0.514286\n",
       "75%              0.422500                0.652500\n",
       "max              1.000000                1.000000"
      ]
     },
     "execution_count": 42,
     "metadata": {},
     "output_type": "execute_result"
    }
   ],
   "source": [
    "#Analyze numeric variables in df_review\n",
    "df_review.describe()\n"
   ]
  },
  {
   "cell_type": "code",
   "execution_count": 43,
   "metadata": {},
   "outputs": [
    {
     "data": {
      "image/png": "[encoded data removed]",
      "text/plain": [
       "<Figure size 720x720 with 2 Axes>"
      ]
     },
     "metadata": {},
     "output_type": "display_data"
    }
   ],
   "source": [
    "#Analyze numeric variables in df_review\n",
    "df_review.hist(figsize=(10,10));"
   ]
  },
  {
   "cell_type": "code",
   "execution_count": 44,
   "metadata": {
    "scrolled": true
   },
   "outputs": [
    {
     "data": {
      "image/png": "[encoded data removed]",
      "text/plain": [
       "<Figure size 720x720 with 2 Axes>"
      ]
     },
     "metadata": {},
     "output_type": "display_data"
    }
   ],
   "source": [
    "# Having the boxplot view\n",
    "plt.figure(1, figsize=(10,10))\n",
    "\n",
    "plt.subplot(221)\n",
    "df_review.boxplot(column='sentiment_polarity')# add boxplot to 1st subplot\n",
    "\n",
    "plt.subplot(222)\n",
    "df_review.boxplot(column='sentiment_subjectivity')\n",
    "\n",
    "plt.show();\n"
   ]
  },
  {
   "cell_type": "markdown",
   "metadata": {},
   "source": [
    "**Thoughts:**\n",
    "\n",
    "- The histogramm reveals that the sentiment polarity is skewed to the left, where the most values are located between 0 and 0.5. The IQR is also between 0 and 0.4225. The boxplot indicates that data below of approx. 0.65 is treated as outliers. The standard deviation is rather low (0.355672) as the range is limited from -1 to +1. \n",
    "\n",
    "- The histogramm of the sentiment subjectivity variable shows that we have many values between 0 and 0.1, as well as between 0.4 and 0.7. The 50% quantile is at 0.514286, indicating that the median is close to the middle of the range. The standard deviation is even lower to the sentiment polarity variable (0.266029), as the range is again lower 0 to 1."
   ]
  },
  {
   "cell_type": "code",
   "execution_count": 144,
   "metadata": {},
   "outputs": [],
   "source": [
    "\"\"\"#https://stackoverflow.com/questions/3627270/python-how-exactly-can-you-take-a-string-split-it-reverse-it-and-join-it-back\n",
    "\n",
    "inst_num = []\n",
    "\n",
    "for i in df.installs:\n",
    "    inst_num.append(df.installs[1].replace('+',',').split(','))\n",
    "    \n",
    "clean_list = []\n",
    "for i in inst_num:\n",
    "    clean_list.append(\"\".join(i))\n",
    "#[0]+df.installs[1].split(',')[1]\n",
    "\n",
    "df['installs_num'] = clean_list\n",
    "df['installs_num'] = df['installs_num'].astype(int)\n",
    "df['rating_weighted'] = df['rating']*df['installs_num']\"\"\""
   ]
  },
  {
   "cell_type": "markdown",
   "metadata": {},
   "source": [
    "### Explorting the Category variable"
   ]
  },
  {
   "cell_type": "code",
   "execution_count": 45,
   "metadata": {},
   "outputs": [
    {
     "data": {
      "image/png": "[encoded data removed]",
      "text/plain": [
       "<Figure size 1440x720 with 1 Axes>"
      ]
     },
     "metadata": {},
     "output_type": "display_data"
    }
   ],
   "source": [
    "order = df['category'].value_counts().index.tolist()\n",
    "\n",
    "\n",
    "plt.figure(figsize=(20,10))\n",
    "sns.countplot(x=\"category\", data=df, order=order)\n",
    "plt.xticks(rotation=90)\n",
    "plt.show();\n",
    "\n"
   ]
  },
  {
   "cell_type": "code",
   "execution_count": 46,
   "metadata": {
    "scrolled": true
   },
   "outputs": [
    {
     "data": {
      "image/png": "[encoded data removed]",
      "text/plain": [
       "<Figure size 1440x720 with 1 Axes>"
      ]
     },
     "metadata": {},
     "output_type": "display_data"
    }
   ],
   "source": [
    "plt.figure(figsize=(20,10))\n",
    "\n",
    "df[['genres_1', 'genres_2']].stack().value_counts()[1:].plot.bar(color='black');\n",
    "plt.title('Most popular genres in the data set');\n",
    "plt.show();"
   ]
  },
  {
   "cell_type": "code",
   "execution_count": 47,
   "metadata": {
    "scrolled": true
   },
   "outputs": [
    {
     "data": {
      "image/png": "[encoded data removed]",
      "text/plain": [
       "<Figure size 1440x720 with 1 Axes>"
      ]
     },
     "metadata": {},
     "output_type": "display_data"
    }
   ],
   "source": [
    "plt.figure(figsize=(20,10))\n",
    "\n",
    "df.query('category==\"FAMILY\"')[['genres_1', 'genres_2']].stack().value_counts()[1:].plot.bar(color='black');\n",
    "plt.title('Most popular genres in category \"FAMILY\"')\n",
    "    \n",
    "plt.show();"
   ]
  },
  {
   "cell_type": "code",
   "execution_count": 48,
   "metadata": {
    "scrolled": true
   },
   "outputs": [
    {
     "data": {
      "image/png": "[encoded data removed]",
      "text/plain": [
       "<Figure size 1440x720 with 1 Axes>"
      ]
     },
     "metadata": {},
     "output_type": "display_data"
    }
   ],
   "source": [
    "plt.figure(figsize=(20,10))\n",
    "\n",
    "df.query('category==\"GAME\"')[['genres_1', 'genres_2']].stack().value_counts()[1:].plot.bar(color='black');\n",
    "plt.title('Most popular genres in category \"GAME\"')\n",
    "    \n",
    "plt.show();"
   ]
  },
  {
   "cell_type": "markdown",
   "metadata": {},
   "source": [
    "### Explorting the Installation variable"
   ]
  },
  {
   "cell_type": "code",
   "execution_count": 55,
   "metadata": {
    "scrolled": true
   },
   "outputs": [
    {
     "data": {
      "image/png": "[encoded data removed]",
      "text/plain": [
       "<Figure size 432x288 with 1 Axes>"
      ]
     },
     "metadata": {},
     "output_type": "display_data"
    }
   ],
   "source": [
    "df.installs.value_counts().plot(kind='bar', color = 'black');"
   ]
  },
  {
   "cell_type": "code",
   "execution_count": 162,
   "metadata": {},
   "outputs": [
    {
     "data": {
      "image/png": "[encoded data removed]",
      "text/plain": [
       "<Figure size 720x720 with 4 Axes>"
      ]
     },
     "metadata": {},
     "output_type": "display_data"
    }
   ],
   "source": [
    "fig, axes = plt.subplots(nrows=2, ncols=2,figsize=(10,10)) # create 2x2 array of subplots\n",
    "\n",
    "df.groupby('installs')['rating'].mean().sort_values(ascending=False).plot(kind='bar', \n",
    "                                                                          color='black', \n",
    "                                                                          title='Best average Ratings by Installs', \n",
    "                                                                          ax=axes[0,0]) \n",
    "\n",
    "df.groupby('installs')['reviews'].sum().sort_values(ascending=False).plot(kind='bar', \n",
    "                                                                          color='black', \n",
    "                                                                          title='Most Reviews by Installs',\n",
    "                                                                          ax=axes[0,1])\n",
    "\n",
    "df.groupby('installs')['price'].mean().sort_values(ascending=False).plot(kind='bar',\n",
    "                                                                         color='black',\n",
    "                                                                         title='Average Prices by Installs',\n",
    "                                                                         ax=axes[1,0])\n",
    "\n",
    "df.groupby('installs')['size'].mean().sort_values(ascending=False).plot(kind='bar', \n",
    "                                                                        color='black',\n",
    "                                                                        title='Average Size by Installs',\n",
    "                                                                        ax=axes[1,1])\n",
    "#plt.title('Average Size by Installs')\n",
    "\n",
    "\n",
    "\n",
    "plt.subplots_adjust(hspace = 0.6, wspace=0.3)\n",
    "\n",
    "plt.show()"
   ]
  },
  {
   "cell_type": "code",
   "execution_count": 166,
   "metadata": {},
   "outputs": [],
   "source": [
    "### Explorting the Type variable"
   ]
  },
  {
   "cell_type": "code",
   "execution_count": 167,
   "metadata": {},
   "outputs": [
    {
     "data": {
      "image/png": "[encoded data removed]",
      "text/plain": [
       "<Figure size 432x288 with 1 Axes>"
      ]
     },
     "metadata": {},
     "output_type": "display_data"
    }
   ],
   "source": [
    "df.type.value_counts().sort_values(ascending=False).plot(kind='bar', color='black');"
   ]
  },
  {
   "cell_type": "code",
   "execution_count": 170,
   "metadata": {},
   "outputs": [
    {
     "data": {
      "image/png": "[encoded data removed]",
      "text/plain": [
       "<Figure size 720x720 with 4 Axes>"
      ]
     },
     "metadata": {},
     "output_type": "display_data"
    }
   ],
   "source": [
    "fig, axes = plt.subplots(nrows=2, ncols=2,figsize=(10,10)) # create 2x2 array of subplots\n",
    "\n",
    "df.groupby('type')['rating'].mean().sort_values(ascending=False).plot(kind='bar', \n",
    "                                                                          color='black', \n",
    "                                                                          title='Best average Ratings by Installs', \n",
    "                                                                          ax=axes[0,0]) \n",
    "\n",
    "df.groupby('type')['reviews'].mean().sort_values(ascending=False).plot(kind='bar', \n",
    "                                                                          color='black', \n",
    "                                                                          title='Average Reviews by Installs',\n",
    "                                                                          ax=axes[0,1])\n",
    "\n",
    "df.groupby('type')['price'].mean().sort_values(ascending=False).plot(kind='bar',\n",
    "                                                                         color='black',\n",
    "                                                                         title='Average Prices by Installs',\n",
    "                                                                         ax=axes[1,0])\n",
    "\n",
    "df.groupby('type')['size'].mean().sort_values(ascending=False).plot(kind='bar', \n",
    "                                                                        color='black',\n",
    "                                                                        title='Average Size by Installs',\n",
    "                                                                        ax=axes[1,1])\n",
    "#plt.title('Average Size by Installs')\n",
    "\n",
    "\n",
    "\n",
    "plt.subplots_adjust(hspace = 0.6, wspace=0.3)\n",
    "\n",
    "plt.show()"
   ]
  },
  {
   "cell_type": "code",
   "execution_count": null,
   "metadata": {},
   "outputs": [],
   "source": []
  },
  {
   "cell_type": "code",
   "execution_count": null,
   "metadata": {},
   "outputs": [],
   "source": []
  },
  {
   "cell_type": "markdown",
   "metadata": {},
   "source": [
    "# <span id=\"if\">Inferential Satistics</span>"
   ]
  },
  {
   "cell_type": "code",
   "execution_count": null,
   "metadata": {},
   "outputs": [],
   "source": []
  },
  {
   "cell_type": "code",
   "execution_count": null,
   "metadata": {},
   "outputs": [],
   "source": []
  },
  {
   "cell_type": "markdown",
   "metadata": {},
   "source": [
    "# <span id=\"findings\">Main Findings</span>"
   ]
  },
  {
   "cell_type": "code",
   "execution_count": null,
   "metadata": {},
   "outputs": [],
   "source": []
  },
  {
   "cell_type": "code",
   "execution_count": null,
   "metadata": {},
   "outputs": [],
   "source": []
  },
  {
   "cell_type": "code",
   "execution_count": null,
   "metadata": {},
   "outputs": [],
   "source": []
  },
  {
   "cell_type": "code",
   "execution_count": null,
   "metadata": {},
   "outputs": [],
   "source": []
  },
  {
   "cell_type": "code",
   "execution_count": null,
   "metadata": {},
   "outputs": [],
   "source": []
  },
  {
   "cell_type": "code",
   "execution_count": null,
   "metadata": {},
   "outputs": [],
   "source": []
  },
  {
   "cell_type": "code",
   "execution_count": null,
   "metadata": {},
   "outputs": [],
   "source": []
  },
  {
   "cell_type": "code",
   "execution_count": null,
   "metadata": {},
   "outputs": [],
   "source": []
  },
  {
   "cell_type": "code",
   "execution_count": null,
   "metadata": {},
   "outputs": [],
   "source": []
  },
  {
   "cell_type": "code",
   "execution_count": null,
   "metadata": {},
   "outputs": [],
   "source": []
  }
 ],
 "metadata": {
  "kernelspec": {
   "display_name": "Python [conda env:anaconda3]",
   "language": "python",
   "name": "conda-env-anaconda3-py"
  },
  "language_info": {
   "codemirror_mode": {
    "name": "ipython",
    "version": 3
   },
   "file_extension": ".py",
   "mimetype": "text/x-python",
   "name": "python",
   "nbconvert_exporter": "python",
   "pygments_lexer": "ipython3",
   "version": "3.6.6"
  }
 },
 "nbformat": 4,
 "nbformat_minor": 2
}
